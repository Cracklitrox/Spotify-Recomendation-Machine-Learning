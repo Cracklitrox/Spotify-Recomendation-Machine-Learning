{
 "cells": [
  {
   "cell_type": "markdown",
   "metadata": {
    "cell_id": "fd4199802e3742328ceed5fcb7eea783",
    "deepnote_app_block_visible": true,
    "deepnote_cell_type": "text-cell-h3",
    "formattedRanges": [],
    "is_collapsed": false
   },
   "source": [
    "### Libraries"
   ]
  },
  {
   "cell_type": "code",
   "execution_count": 5,
   "metadata": {
    "cell_id": "14d62af824bd4b69b0c7e6b44ab2ba91",
    "deepnote_app_block_visible": true,
    "deepnote_app_is_code_hidden": true,
    "deepnote_cell_type": "code",
    "deepnote_to_be_reexecuted": false,
    "execution_millis": 1227,
    "execution_start": 1725932641565,
    "source_hash": null
   },
   "outputs": [],
   "source": [
    "import os\n",
    "\n",
    "import pandas as pd\n",
    "import numpy as np\n",
    "\n",
    "import matplotlib.pyplot as plt\n",
    "import seaborn as sns\n",
    "\n",
    "import sklearn\n",
    "from sklearn.preprocessing import MinMaxScaler, LabelEncoder , StandardScaler\n",
    "from sklearn.datasets import fetch_california_housing\n",
    "from sklearn.model_selection import train_test_split\n",
    "from sklearn.linear_model import Lasso\n",
    "\n",
    "import plotly.express as px\n",
    "import plotly.graph_objects as go\n",
    "from plotly.subplots import make_subplots"
   ]
  },
  {
   "cell_type": "markdown",
   "metadata": {
    "cell_id": "82f21e881f344cc3b92539950fab8645",
    "deepnote_app_block_visible": true,
    "deepnote_cell_type": "text-cell-h3",
    "formattedRanges": [],
    "is_collapsed": false
   },
   "source": [
    "### Called Dataset"
   ]
  },
  {
   "cell_type": "code",
   "execution_count": 6,
   "metadata": {
    "cell_id": "886237ac00f2457e9f474f394bdebeb8",
    "deepnote_app_block_visible": true,
    "deepnote_app_is_code_hidden": true,
    "deepnote_cell_type": "code",
    "deepnote_to_be_reexecuted": false,
    "execution_millis": 773,
    "execution_start": 1725932642801,
    "source_hash": null
   },
   "outputs": [
    {
     "ename": "FileNotFoundError",
     "evalue": "[Errno 2] No such file or directory: '..\\\\data\\\\02_intermediate\\\\2.spotifySinOutlier.csv'",
     "output_type": "error",
     "traceback": [
      "\u001b[1;31m---------------------------------------------------------------------------\u001b[0m",
      "\u001b[1;31mFileNotFoundError\u001b[0m                         Traceback (most recent call last)",
      "Cell \u001b[1;32mIn[6], line 8\u001b[0m\n\u001b[0;32m      5\u001b[0m ruta_csv_relativa \u001b[38;5;241m=\u001b[39m os\u001b[38;5;241m.\u001b[39mpath\u001b[38;5;241m.\u001b[39mjoin(\u001b[38;5;124m'\u001b[39m\u001b[38;5;124m..\u001b[39m\u001b[38;5;124m'\u001b[39m, \u001b[38;5;124m'\u001b[39m\u001b[38;5;124mdata\u001b[39m\u001b[38;5;124m'\u001b[39m, \u001b[38;5;124m'\u001b[39m\u001b[38;5;124m02_intermediate\u001b[39m\u001b[38;5;124m'\u001b[39m,\u001b[38;5;124m'\u001b[39m\u001b[38;5;124m2.spotifySinOutlier.csv\u001b[39m\u001b[38;5;124m'\u001b[39m)\n\u001b[0;32m      7\u001b[0m \u001b[38;5;66;03m# Load the CSV file\u001b[39;00m\n\u001b[1;32m----> 8\u001b[0m spotify \u001b[38;5;241m=\u001b[39m \u001b[43mpd\u001b[49m\u001b[38;5;241;43m.\u001b[39;49m\u001b[43mread_csv\u001b[49m\u001b[43m(\u001b[49m\u001b[43mruta_csv_relativa\u001b[49m\u001b[43m)\u001b[49m\n\u001b[0;32m     10\u001b[0m \u001b[38;5;66;03m# Show the first rows of the DataFrame\u001b[39;00m\n\u001b[0;32m     11\u001b[0m spotify\u001b[38;5;241m.\u001b[39mhead(\u001b[38;5;241m10\u001b[39m)\n",
      "File \u001b[1;32m~\\OneDrive\\Imágenes\\Escritorio\\Spotify-Recomendation-Machine-Learning\\.venv\\Lib\\site-packages\\pandas\\io\\parsers\\readers.py:1026\u001b[0m, in \u001b[0;36mread_csv\u001b[1;34m(filepath_or_buffer, sep, delimiter, header, names, index_col, usecols, dtype, engine, converters, true_values, false_values, skipinitialspace, skiprows, skipfooter, nrows, na_values, keep_default_na, na_filter, verbose, skip_blank_lines, parse_dates, infer_datetime_format, keep_date_col, date_parser, date_format, dayfirst, cache_dates, iterator, chunksize, compression, thousands, decimal, lineterminator, quotechar, quoting, doublequote, escapechar, comment, encoding, encoding_errors, dialect, on_bad_lines, delim_whitespace, low_memory, memory_map, float_precision, storage_options, dtype_backend)\u001b[0m\n\u001b[0;32m   1013\u001b[0m kwds_defaults \u001b[38;5;241m=\u001b[39m _refine_defaults_read(\n\u001b[0;32m   1014\u001b[0m     dialect,\n\u001b[0;32m   1015\u001b[0m     delimiter,\n\u001b[1;32m   (...)\u001b[0m\n\u001b[0;32m   1022\u001b[0m     dtype_backend\u001b[38;5;241m=\u001b[39mdtype_backend,\n\u001b[0;32m   1023\u001b[0m )\n\u001b[0;32m   1024\u001b[0m kwds\u001b[38;5;241m.\u001b[39mupdate(kwds_defaults)\n\u001b[1;32m-> 1026\u001b[0m \u001b[38;5;28;01mreturn\u001b[39;00m \u001b[43m_read\u001b[49m\u001b[43m(\u001b[49m\u001b[43mfilepath_or_buffer\u001b[49m\u001b[43m,\u001b[49m\u001b[43m \u001b[49m\u001b[43mkwds\u001b[49m\u001b[43m)\u001b[49m\n",
      "File \u001b[1;32m~\\OneDrive\\Imágenes\\Escritorio\\Spotify-Recomendation-Machine-Learning\\.venv\\Lib\\site-packages\\pandas\\io\\parsers\\readers.py:620\u001b[0m, in \u001b[0;36m_read\u001b[1;34m(filepath_or_buffer, kwds)\u001b[0m\n\u001b[0;32m    617\u001b[0m _validate_names(kwds\u001b[38;5;241m.\u001b[39mget(\u001b[38;5;124m\"\u001b[39m\u001b[38;5;124mnames\u001b[39m\u001b[38;5;124m\"\u001b[39m, \u001b[38;5;28;01mNone\u001b[39;00m))\n\u001b[0;32m    619\u001b[0m \u001b[38;5;66;03m# Create the parser.\u001b[39;00m\n\u001b[1;32m--> 620\u001b[0m parser \u001b[38;5;241m=\u001b[39m \u001b[43mTextFileReader\u001b[49m\u001b[43m(\u001b[49m\u001b[43mfilepath_or_buffer\u001b[49m\u001b[43m,\u001b[49m\u001b[43m \u001b[49m\u001b[38;5;241;43m*\u001b[39;49m\u001b[38;5;241;43m*\u001b[39;49m\u001b[43mkwds\u001b[49m\u001b[43m)\u001b[49m\n\u001b[0;32m    622\u001b[0m \u001b[38;5;28;01mif\u001b[39;00m chunksize \u001b[38;5;129;01mor\u001b[39;00m iterator:\n\u001b[0;32m    623\u001b[0m     \u001b[38;5;28;01mreturn\u001b[39;00m parser\n",
      "File \u001b[1;32m~\\OneDrive\\Imágenes\\Escritorio\\Spotify-Recomendation-Machine-Learning\\.venv\\Lib\\site-packages\\pandas\\io\\parsers\\readers.py:1620\u001b[0m, in \u001b[0;36mTextFileReader.__init__\u001b[1;34m(self, f, engine, **kwds)\u001b[0m\n\u001b[0;32m   1617\u001b[0m     \u001b[38;5;28mself\u001b[39m\u001b[38;5;241m.\u001b[39moptions[\u001b[38;5;124m\"\u001b[39m\u001b[38;5;124mhas_index_names\u001b[39m\u001b[38;5;124m\"\u001b[39m] \u001b[38;5;241m=\u001b[39m kwds[\u001b[38;5;124m\"\u001b[39m\u001b[38;5;124mhas_index_names\u001b[39m\u001b[38;5;124m\"\u001b[39m]\n\u001b[0;32m   1619\u001b[0m \u001b[38;5;28mself\u001b[39m\u001b[38;5;241m.\u001b[39mhandles: IOHandles \u001b[38;5;241m|\u001b[39m \u001b[38;5;28;01mNone\u001b[39;00m \u001b[38;5;241m=\u001b[39m \u001b[38;5;28;01mNone\u001b[39;00m\n\u001b[1;32m-> 1620\u001b[0m \u001b[38;5;28mself\u001b[39m\u001b[38;5;241m.\u001b[39m_engine \u001b[38;5;241m=\u001b[39m \u001b[38;5;28;43mself\u001b[39;49m\u001b[38;5;241;43m.\u001b[39;49m\u001b[43m_make_engine\u001b[49m\u001b[43m(\u001b[49m\u001b[43mf\u001b[49m\u001b[43m,\u001b[49m\u001b[43m \u001b[49m\u001b[38;5;28;43mself\u001b[39;49m\u001b[38;5;241;43m.\u001b[39;49m\u001b[43mengine\u001b[49m\u001b[43m)\u001b[49m\n",
      "File \u001b[1;32m~\\OneDrive\\Imágenes\\Escritorio\\Spotify-Recomendation-Machine-Learning\\.venv\\Lib\\site-packages\\pandas\\io\\parsers\\readers.py:1880\u001b[0m, in \u001b[0;36mTextFileReader._make_engine\u001b[1;34m(self, f, engine)\u001b[0m\n\u001b[0;32m   1878\u001b[0m     \u001b[38;5;28;01mif\u001b[39;00m \u001b[38;5;124m\"\u001b[39m\u001b[38;5;124mb\u001b[39m\u001b[38;5;124m\"\u001b[39m \u001b[38;5;129;01mnot\u001b[39;00m \u001b[38;5;129;01min\u001b[39;00m mode:\n\u001b[0;32m   1879\u001b[0m         mode \u001b[38;5;241m+\u001b[39m\u001b[38;5;241m=\u001b[39m \u001b[38;5;124m\"\u001b[39m\u001b[38;5;124mb\u001b[39m\u001b[38;5;124m\"\u001b[39m\n\u001b[1;32m-> 1880\u001b[0m \u001b[38;5;28mself\u001b[39m\u001b[38;5;241m.\u001b[39mhandles \u001b[38;5;241m=\u001b[39m \u001b[43mget_handle\u001b[49m\u001b[43m(\u001b[49m\n\u001b[0;32m   1881\u001b[0m \u001b[43m    \u001b[49m\u001b[43mf\u001b[49m\u001b[43m,\u001b[49m\n\u001b[0;32m   1882\u001b[0m \u001b[43m    \u001b[49m\u001b[43mmode\u001b[49m\u001b[43m,\u001b[49m\n\u001b[0;32m   1883\u001b[0m \u001b[43m    \u001b[49m\u001b[43mencoding\u001b[49m\u001b[38;5;241;43m=\u001b[39;49m\u001b[38;5;28;43mself\u001b[39;49m\u001b[38;5;241;43m.\u001b[39;49m\u001b[43moptions\u001b[49m\u001b[38;5;241;43m.\u001b[39;49m\u001b[43mget\u001b[49m\u001b[43m(\u001b[49m\u001b[38;5;124;43m\"\u001b[39;49m\u001b[38;5;124;43mencoding\u001b[39;49m\u001b[38;5;124;43m\"\u001b[39;49m\u001b[43m,\u001b[49m\u001b[43m \u001b[49m\u001b[38;5;28;43;01mNone\u001b[39;49;00m\u001b[43m)\u001b[49m\u001b[43m,\u001b[49m\n\u001b[0;32m   1884\u001b[0m \u001b[43m    \u001b[49m\u001b[43mcompression\u001b[49m\u001b[38;5;241;43m=\u001b[39;49m\u001b[38;5;28;43mself\u001b[39;49m\u001b[38;5;241;43m.\u001b[39;49m\u001b[43moptions\u001b[49m\u001b[38;5;241;43m.\u001b[39;49m\u001b[43mget\u001b[49m\u001b[43m(\u001b[49m\u001b[38;5;124;43m\"\u001b[39;49m\u001b[38;5;124;43mcompression\u001b[39;49m\u001b[38;5;124;43m\"\u001b[39;49m\u001b[43m,\u001b[49m\u001b[43m \u001b[49m\u001b[38;5;28;43;01mNone\u001b[39;49;00m\u001b[43m)\u001b[49m\u001b[43m,\u001b[49m\n\u001b[0;32m   1885\u001b[0m \u001b[43m    \u001b[49m\u001b[43mmemory_map\u001b[49m\u001b[38;5;241;43m=\u001b[39;49m\u001b[38;5;28;43mself\u001b[39;49m\u001b[38;5;241;43m.\u001b[39;49m\u001b[43moptions\u001b[49m\u001b[38;5;241;43m.\u001b[39;49m\u001b[43mget\u001b[49m\u001b[43m(\u001b[49m\u001b[38;5;124;43m\"\u001b[39;49m\u001b[38;5;124;43mmemory_map\u001b[39;49m\u001b[38;5;124;43m\"\u001b[39;49m\u001b[43m,\u001b[49m\u001b[43m \u001b[49m\u001b[38;5;28;43;01mFalse\u001b[39;49;00m\u001b[43m)\u001b[49m\u001b[43m,\u001b[49m\n\u001b[0;32m   1886\u001b[0m \u001b[43m    \u001b[49m\u001b[43mis_text\u001b[49m\u001b[38;5;241;43m=\u001b[39;49m\u001b[43mis_text\u001b[49m\u001b[43m,\u001b[49m\n\u001b[0;32m   1887\u001b[0m \u001b[43m    \u001b[49m\u001b[43merrors\u001b[49m\u001b[38;5;241;43m=\u001b[39;49m\u001b[38;5;28;43mself\u001b[39;49m\u001b[38;5;241;43m.\u001b[39;49m\u001b[43moptions\u001b[49m\u001b[38;5;241;43m.\u001b[39;49m\u001b[43mget\u001b[49m\u001b[43m(\u001b[49m\u001b[38;5;124;43m\"\u001b[39;49m\u001b[38;5;124;43mencoding_errors\u001b[39;49m\u001b[38;5;124;43m\"\u001b[39;49m\u001b[43m,\u001b[49m\u001b[43m \u001b[49m\u001b[38;5;124;43m\"\u001b[39;49m\u001b[38;5;124;43mstrict\u001b[39;49m\u001b[38;5;124;43m\"\u001b[39;49m\u001b[43m)\u001b[49m\u001b[43m,\u001b[49m\n\u001b[0;32m   1888\u001b[0m \u001b[43m    \u001b[49m\u001b[43mstorage_options\u001b[49m\u001b[38;5;241;43m=\u001b[39;49m\u001b[38;5;28;43mself\u001b[39;49m\u001b[38;5;241;43m.\u001b[39;49m\u001b[43moptions\u001b[49m\u001b[38;5;241;43m.\u001b[39;49m\u001b[43mget\u001b[49m\u001b[43m(\u001b[49m\u001b[38;5;124;43m\"\u001b[39;49m\u001b[38;5;124;43mstorage_options\u001b[39;49m\u001b[38;5;124;43m\"\u001b[39;49m\u001b[43m,\u001b[49m\u001b[43m \u001b[49m\u001b[38;5;28;43;01mNone\u001b[39;49;00m\u001b[43m)\u001b[49m\u001b[43m,\u001b[49m\n\u001b[0;32m   1889\u001b[0m \u001b[43m\u001b[49m\u001b[43m)\u001b[49m\n\u001b[0;32m   1890\u001b[0m \u001b[38;5;28;01massert\u001b[39;00m \u001b[38;5;28mself\u001b[39m\u001b[38;5;241m.\u001b[39mhandles \u001b[38;5;129;01mis\u001b[39;00m \u001b[38;5;129;01mnot\u001b[39;00m \u001b[38;5;28;01mNone\u001b[39;00m\n\u001b[0;32m   1891\u001b[0m f \u001b[38;5;241m=\u001b[39m \u001b[38;5;28mself\u001b[39m\u001b[38;5;241m.\u001b[39mhandles\u001b[38;5;241m.\u001b[39mhandle\n",
      "File \u001b[1;32m~\\OneDrive\\Imágenes\\Escritorio\\Spotify-Recomendation-Machine-Learning\\.venv\\Lib\\site-packages\\pandas\\io\\common.py:873\u001b[0m, in \u001b[0;36mget_handle\u001b[1;34m(path_or_buf, mode, encoding, compression, memory_map, is_text, errors, storage_options)\u001b[0m\n\u001b[0;32m    868\u001b[0m \u001b[38;5;28;01melif\u001b[39;00m \u001b[38;5;28misinstance\u001b[39m(handle, \u001b[38;5;28mstr\u001b[39m):\n\u001b[0;32m    869\u001b[0m     \u001b[38;5;66;03m# Check whether the filename is to be opened in binary mode.\u001b[39;00m\n\u001b[0;32m    870\u001b[0m     \u001b[38;5;66;03m# Binary mode does not support 'encoding' and 'newline'.\u001b[39;00m\n\u001b[0;32m    871\u001b[0m     \u001b[38;5;28;01mif\u001b[39;00m ioargs\u001b[38;5;241m.\u001b[39mencoding \u001b[38;5;129;01mand\u001b[39;00m \u001b[38;5;124m\"\u001b[39m\u001b[38;5;124mb\u001b[39m\u001b[38;5;124m\"\u001b[39m \u001b[38;5;129;01mnot\u001b[39;00m \u001b[38;5;129;01min\u001b[39;00m ioargs\u001b[38;5;241m.\u001b[39mmode:\n\u001b[0;32m    872\u001b[0m         \u001b[38;5;66;03m# Encoding\u001b[39;00m\n\u001b[1;32m--> 873\u001b[0m         handle \u001b[38;5;241m=\u001b[39m \u001b[38;5;28;43mopen\u001b[39;49m\u001b[43m(\u001b[49m\n\u001b[0;32m    874\u001b[0m \u001b[43m            \u001b[49m\u001b[43mhandle\u001b[49m\u001b[43m,\u001b[49m\n\u001b[0;32m    875\u001b[0m \u001b[43m            \u001b[49m\u001b[43mioargs\u001b[49m\u001b[38;5;241;43m.\u001b[39;49m\u001b[43mmode\u001b[49m\u001b[43m,\u001b[49m\n\u001b[0;32m    876\u001b[0m \u001b[43m            \u001b[49m\u001b[43mencoding\u001b[49m\u001b[38;5;241;43m=\u001b[39;49m\u001b[43mioargs\u001b[49m\u001b[38;5;241;43m.\u001b[39;49m\u001b[43mencoding\u001b[49m\u001b[43m,\u001b[49m\n\u001b[0;32m    877\u001b[0m \u001b[43m            \u001b[49m\u001b[43merrors\u001b[49m\u001b[38;5;241;43m=\u001b[39;49m\u001b[43merrors\u001b[49m\u001b[43m,\u001b[49m\n\u001b[0;32m    878\u001b[0m \u001b[43m            \u001b[49m\u001b[43mnewline\u001b[49m\u001b[38;5;241;43m=\u001b[39;49m\u001b[38;5;124;43m\"\u001b[39;49m\u001b[38;5;124;43m\"\u001b[39;49m\u001b[43m,\u001b[49m\n\u001b[0;32m    879\u001b[0m \u001b[43m        \u001b[49m\u001b[43m)\u001b[49m\n\u001b[0;32m    880\u001b[0m     \u001b[38;5;28;01melse\u001b[39;00m:\n\u001b[0;32m    881\u001b[0m         \u001b[38;5;66;03m# Binary mode\u001b[39;00m\n\u001b[0;32m    882\u001b[0m         handle \u001b[38;5;241m=\u001b[39m \u001b[38;5;28mopen\u001b[39m(handle, ioargs\u001b[38;5;241m.\u001b[39mmode)\n",
      "\u001b[1;31mFileNotFoundError\u001b[0m: [Errno 2] No such file or directory: '..\\\\data\\\\02_intermediate\\\\2.spotifySinOutlier.csv'"
     ]
    }
   ],
   "source": [
    "# Get the current working directory\n",
    "directorio_actual = os.getcwd()\n",
    "\n",
    "# Specify the relative path from the current directory\n",
    "ruta_csv_relativa = os.path.join('..', 'data', '02_intermediate','2.spotifySinOutlier.csv')\n",
    "\n",
    "# Load the CSV file\n",
    "spotify = pd.read_csv(ruta_csv_relativa)\n",
    "\n",
    "# Show the first rows of the DataFrame\n",
    "spotify.head(10)"
   ]
  },
  {
   "cell_type": "markdown",
   "metadata": {
    "cell_id": "25eecddbc5554bc4ac72a072dee04528",
    "deepnote_app_block_visible": true,
    "deepnote_cell_type": "text-cell-h2",
    "formattedRanges": [],
    "is_collapsed": false
   },
   "source": [
    "## Data scaling"
   ]
  },
  {
   "cell_type": "markdown",
   "metadata": {
    "cell_id": "cbeb41f0aea64f549d7e59f0f7875eb7",
    "deepnote_app_block_visible": true,
    "deepnote_cell_type": "text-cell-p",
    "formattedRanges": []
   },
   "source": [
    "This scaling of variables is to be able to work with the models in the future."
   ]
  },
  {
   "cell_type": "markdown",
   "metadata": {
    "cell_id": "562c3c70b3f94146a76e6165dc0820a8",
    "deepnote_app_block_visible": true,
    "deepnote_cell_type": "text-cell-h3",
    "formattedRanges": []
   },
   "source": [
    "### duration_ms Scaler"
   ]
  },
  {
   "cell_type": "code",
   "execution_count": null,
   "metadata": {},
   "outputs": [],
   "source": [
    "# Create a StandardScaler object\n",
    "scaler = MinMaxScaler()\n",
    "\n",
    "# Select only the popularity column to scale\n",
    "spotify['duration_ms_scaled'] = scaler.fit_transform(spotify[['log_duration_ms']])\n",
    "\n",
    "# Show first rows to check\n",
    "spotify[['duration_ms', 'duration_ms_scaled']].head()"
   ]
  },
  {
   "cell_type": "markdown",
   "metadata": {
    "cell_id": "7c611ef55e4046b8ab830af2eae93a21",
    "deepnote_app_block_visible": true,
    "deepnote_cell_type": "text-cell-h3",
    "formattedRanges": [],
    "is_collapsed": false
   },
   "source": [
    "### population Scaler"
   ]
  },
  {
   "cell_type": "code",
   "execution_count": null,
   "metadata": {
    "cell_id": "6deb6c33fd3748739d6837b50afa85b9",
    "deepnote_app_block_visible": true,
    "deepnote_app_is_code_hidden": true,
    "deepnote_cell_type": "code",
    "deepnote_to_be_reexecuted": false,
    "execution_millis": 296,
    "execution_start": 1725932643659,
    "source_hash": null
   },
   "outputs": [],
   "source": [
    "# Create a StandardScaler object\n",
    "scaler = MinMaxScaler()\n",
    "\n",
    "# Select only the popularity column to scale\n",
    "spotify['popularity_scaled'] = scaler.fit_transform(spotify[['log_popularity']])\n",
    "\n",
    "# Show first rows to check\n",
    "spotify[['popularity', 'popularity_scaled']].head()"
   ]
  },
  {
   "cell_type": "markdown",
   "metadata": {
    "cell_id": "7d2f68c56fe441bcbff4ffdfc0a22806",
    "deepnote_app_block_visible": true,
    "deepnote_cell_type": "text-cell-h3",
    "formattedRanges": []
   },
   "source": [
    "### Group feature Scaler"
   ]
  },
  {
   "cell_type": "code",
   "execution_count": null,
   "metadata": {
    "cell_id": "f035b5a1dce44209912316538ab27614",
    "deepnote_app_block_visible": true,
    "deepnote_app_is_code_hidden": true,
    "deepnote_cell_type": "code",
    "deepnote_to_be_reexecuted": false,
    "execution_millis": 46,
    "execution_start": 1725932768058,
    "source_hash": null
   },
   "outputs": [],
   "source": [
    "# Select numeric features to scale\n",
    "features_to_scale = ['danceability', 'energy', 'loudness', 'speechiness', \n",
    "                     'acousticness', 'instrumentalness', 'liveness', \n",
    "                     'valence', 'tempo']\n",
    "\n",
    "scaler = MinMaxScaler()\n",
    "spotify[features_to_scale] = scaler.fit_transform(spotify[features_to_scale])\n",
    "\n",
    "print('Caracteristicas escaladas: ', features_to_scale)"
   ]
  },
  {
   "cell_type": "markdown",
   "metadata": {
    "cell_id": "5cf5381715fd492ca7b03aa8f9e9ab79",
    "deepnote_app_block_visible": true,
    "deepnote_cell_type": "text-cell-h2",
    "formattedRanges": []
   },
   "source": [
    "## Creating new features"
   ]
  },
  {
   "cell_type": "markdown",
   "metadata": {
    "cell_id": "7e851f9ce54d43d5b7f3e5a3d8853a2d",
    "deepnote_app_block_visible": true,
    "deepnote_cell_type": "text-cell-h3",
    "formattedRanges": []
   },
   "source": [
    "### duration_ms a tiempo_ms_seconds"
   ]
  },
  {
   "cell_type": "markdown",
   "metadata": {
    "cell_id": "6740c2a232354be483f01bc5653bf837",
    "deepnote_app_block_visible": true,
    "deepnote_cell_type": "text-cell-p",
    "formattedRanges": []
   },
   "source": [
    "The duration_ms was calculated so that the millisecond values are converted to minutes and seconds"
   ]
  },
  {
   "cell_type": "code",
   "execution_count": null,
   "metadata": {
    "cell_id": "49f60e3f26974eaf95fae74ecee11b8f",
    "deepnote_app_block_visible": true,
    "deepnote_app_is_code_hidden": true,
    "deepnote_cell_type": "code",
    "deepnote_output_height_limit_disabled": true,
    "deepnote_to_be_reexecuted": false,
    "execution_millis": 224,
    "execution_start": 1725932643731,
    "is_code_hidden": false,
    "source_hash": null
   },
   "outputs": [],
   "source": [
    "# Convert milliseconds to seconds\n",
    "spotify['tiempo_ms_seconds'] = spotify['duration_ms'] / 1000\n",
    "\n",
    "# Function to convert seconds to minutes and seconds format\n",
    "def segundos_a_formato(segundos):\n",
    "    minutos = int(segundos // 60)\n",
    "    segundos_restantes = int(segundos % 60)\n",
    "    return f\"{minutos} minuto{'s' if minutos != 1 else ''} con {segundos_restantes} segundo{'s' if segundos_restantes != 1 else ''}\"\n",
    "\n",
    "# Apply the function to the seconds column\n",
    "spotify['duration_ms_scaled'] = spotify['tiempo_ms_seconds'].apply(segundos_a_formato)\n",
    "\n",
    "# Show the first 10 formatted values\n",
    "print(spotify['duration_ms_scaled'].head(10))"
   ]
  },
  {
   "cell_type": "markdown",
   "metadata": {
    "cell_id": "b8f251c2af3f4ecc8d69922896d92c48",
    "deepnote_app_block_visible": true,
    "deepnote_cell_type": "text-cell-h3",
    "formattedRanges": []
   },
   "source": [
    "### tranck_genre a Label Encoding"
   ]
  },
  {
   "cell_type": "markdown",
   "metadata": {
    "cell_id": "511168c7c30b4c5d99db5feaa895dc5e",
    "deepnote_app_block_visible": true,
    "deepnote_cell_type": "text-cell-p",
    "formattedRanges": []
   },
   "source": [
    "Change the categorical label of track_genre to a numeric value."
   ]
  },
  {
   "cell_type": "code",
   "execution_count": null,
   "metadata": {
    "cell_id": "56ec0fe2682341d18653c8621c93f84e",
    "deepnote_app_block_visible": true,
    "deepnote_app_is_code_hidden": true,
    "deepnote_cell_type": "code",
    "deepnote_to_be_reexecuted": false,
    "execution_millis": 253,
    "execution_start": 1725932643925,
    "source_hash": null
   },
   "outputs": [],
   "source": [
    "# Create the tag encoder\n",
    "le = LabelEncoder()\n",
    "\n",
    "# Apply Label Encoding to 'track_genre' column\n",
    "spotify['track_genre_encoded'] = le.fit_transform(spotify['track_genre'])\n",
    "\n",
    "# View the first rows to verify the encoding\n",
    "spotify[['track_genre', 'track_genre_encoded']].head()"
   ]
  },
  {
   "cell_type": "markdown",
   "metadata": {
    "cell_id": "6b764423d93044cc8e2122c2316da7b4",
    "deepnote_app_block_visible": true,
    "deepnote_cell_type": "text-cell-h3",
    "formattedRanges": []
   },
   "source": [
    "### New variable \"Intensity\""
   ]
  },
  {
   "cell_type": "markdown",
   "metadata": {
    "cell_id": "76c1b55990754ff393adeea81ea412c7",
    "deepnote_app_block_visible": true,
    "deepnote_cell_type": "text-cell-p",
    "formattedRanges": []
   },
   "source": [
    "Having a good correlation thanks to the matrix, we decided to choose to combine energy with danceability"
   ]
  },
  {
   "cell_type": "code",
   "execution_count": null,
   "metadata": {
    "cell_id": "493fab1147764e6abb075cff05e345fb",
    "deepnote_app_block_visible": true,
    "deepnote_app_is_code_hidden": true,
    "deepnote_cell_type": "code",
    "deepnote_to_be_reexecuted": false,
    "execution_millis": 86,
    "execution_start": 1725932696106,
    "source_hash": null
   },
   "outputs": [],
   "source": [
    "# Create a new \"intensity\" column\n",
    "spotify['intensity'] = spotify['energy'] * spotify['danceability']\n",
    "spotify['intensity'].head(10)"
   ]
  },
  {
   "cell_type": "markdown",
   "metadata": {},
   "source": [
    "#Target Exploration"
   ]
  },
  {
   "cell_type": "code",
   "execution_count": null,
   "metadata": {},
   "outputs": [],
   "source": [
    "# Replace infinite values with NaN throughout the DataFrame\n",
    "spotify.replace([float('inf'), float('-inf')], pd.NA, inplace=True)\n",
    "# Set graphics style\n",
    "sns.set(style=\"whitegrid\")\n",
    "#1. Distribution of characteristics that affect recommendations (danceability, energy, valence)\n",
    "plt.figure(figsize=(14,6))\n",
    "# Subplots for each feature\n",
    "for i, feature in enumerate(['danceability', 'energy', 'valence'], 1):\n",
    "    plt.subplot(1, 3, i)\n",
    "    sns.histplot(spotify[feature].dropna(), bins=30, kde=True, color='teal')\n",
    "    plt.title(f'Distribución de {feature.capitalize()}')\n",
    "    plt.xlabel(feature.capitalize())\n",
    "    plt.ylabel('Frecuencia')\n",
    "plt.tight_layout()\n",
    "plt.show()\n",
    "# 2. Relationship between Gender and characteristics for recommendations\n",
    "plt.figure(figsize=(14,8))\n",
    "top_genres = spotify['track_genre'].value_counts().nlargest(10) #Top 10 genres\n",
    "sns.boxplot(x='track_genre', y='danceability', data=spotify[spotify['track_genre'].isin(top_genres.index)].dropna(), palette='coolwarm')\n",
    "plt.title('Danceability por Género de Canción')\n",
    "plt.xticks(rotation=90)\n",
    "plt.show()\n",
    "#3. Explicit Song Count\n",
    "plt.figure(figsize=(6,6))\n",
    "sns.countplot(x='explicit', data=spotify, palette='Set2')\n",
    "plt.title('Explicit vs. Non-Explicit Songs')\n",
    "plt.xlabel('Explícito')\n",
    "plt.ylabel('Conteo')\n",
    "plt.show()"
   ]
  },
  {
   "cell_type": "markdown",
   "metadata": {},
   "source": [
    "### Histogram Chart Explanation\n",
    "Danceability Distribution: The image represents a bell shape, meaning that most songs are danceable, suggesting that it does not greatly affect this field when recommending songs for the user who varies in tastes. Energy Distribution: The graph represents it with values skewed to the right side, meaning that the vast majority of songs have high energy, meaning that if a user opts for 'x' song, it is most likely that the recommendation should be with similar or equal energy levels. Valence Distribution: A uniform distribution,\n",
    "suggesting that the mix of songs has a high and low positivity, but where the concentration of these values is in the middle of the graph. In summary, the feeling or atmosphere of the songs is mostly related to these three fields where the variability of the values is almost zero, allowing the\n",
    "song search for the user to be successful most of the time, because no distribution graphs with atypical values were found, but rather, their results are generally close and therefore, successful. Danceability boxplot by song genre: The following graph shows the\n",
    "relationships of the music genres, where it is highlighted that each box shows the distribution of the Danceability field by music genre. As can be seen, genres such as 'Alt-Rock' and 'Afrobeat' have more danceable songs than genres such as 'ambient' or 'blues'. This helps us to recommend music genres\n",
    "for the user based on their favorite songs, in this way we have the closest and the most distant genres. Number of songs with explicit and non-explicit lyrics: As you can see, the number of non-explicit songs is around 100,000 songs, compared to songs that do contain explicit lyrics, where the value is around 8,000 to 10,000 songs. This option is crucial for song recommendations, since if the user chooses songs with explicit lyrics, the number of recommendations drops drastically compared to choosing songs without explicit lyrics, although it also gives the option to choose from both options. This is accompanied by business question 3, which shows us the exact number of songs with explicit lyrics by music genre. Conclusion: The graphs shown give us a broad resolution that covers themes of atmosphere or feelings that the songs deliver, similarity between music genres based on their danceability, and the number of songs with and without explicit lyrics. This will allow us to define in a more exact way the recommendations that we give to the user based on their tastes."
   ]
  },
  {
   "cell_type": "code",
   "execution_count": null,
   "metadata": {},
   "outputs": [],
   "source": [
    "spotify.info()"
   ]
  },
  {
   "cell_type": "code",
   "execution_count": null,
   "metadata": {},
   "outputs": [],
   "source": [
    "# We select the numerical features that we want to use for the regression\n",
    "X = spotify[['danceability', 'energy', 'loudness', 'speechiness', 'acousticness',\n",
    "             'instrumentalness', 'liveness', 'valence', 'tempo']]  # Adjusts according to the available numeric columns\n",
    "\n",
    "# Target column\n",
    "y = spotify['popularity']\n",
    "\n",
    "# Standardize the characteristics\n",
    "scaler = StandardScaler()\n",
    "X_scaled = scaler.fit_transform(X)\n",
    "\n",
    "# Split into training and test sets\n",
    "X_train, X_test, y_train, y_test = train_test_split(X_scaled, y, test_size=0.2, random_state=42)\n",
    "\n",
    "# Create and train the LASSO model\n",
    "lasso = Lasso(alpha=0.1)\n",
    "lasso.fit(X_train, y_train)\n",
    "\n",
    "# Get the coefficients (feature importance)\n",
    "importancia = lasso.coef_\n",
    "\n",
    "# Create a bar chart\n",
    "caracteristicas = ['danceability', 'energy', 'loudness', 'speechiness', 'acousticness',\n",
    "                   'instrumentalness', 'liveness', 'valence', 'tempo']  # Your number columns\n",
    "plt.figure(figsize=(10, 6))\n",
    "plt.barh(caracteristicas, importancia, color='c')\n",
    "plt.xlabel(\"Importance of the feature\")\n",
    "plt.ylabel(\"Characteristics\")\n",
    "plt.title(\"Feature Importance Using LASSO\")\n",
    "plt.show()"
   ]
  },
  {
   "cell_type": "markdown",
   "metadata": {},
   "source": [
    "## Explanation\n",
    "As you can see, using the LASSO method you can determine which are the most important variables of the Dataset (Target). As an observation, you can see the following:\n",
    "\n",
    "1) The fields 'loudness' and 'danceability' have positive importance compared to the other fields, but in the case of 'loudness' its influence is less compared to the 'danceability' field.\n",
    "2) Fields such as 'valance', 'liveness', 'instrumentalness', 'acousticness', 'speechiness' and 'energy' have negative importance, which means that for the search of the target field 'popularity', its influence is negative but noticeable.\n",
    "\n",
    "Conclusion:\n",
    "\n",
    "As an assessment, we can highlight 3 variables that influence the prediction of song popularity. Fields such as 'danceability' and 'loudness' have a minor but positive influence. On the other hand, the field that has the most influence is 'instrumentalness', which, being of negative impact, the higher the value of this characteristic, the worse its influence when predicting the target field. Therefore, it has been decided that these 3 fields are the most suitable for prediction, since they produce a greater influence compared to the other fields."
   ]
  },
  {
   "cell_type": "markdown",
   "metadata": {
    "cell_id": "3685de03938841588289502bfdf79467",
    "deepnote_app_block_visible": true,
    "deepnote_cell_type": "text-cell-h2",
    "formattedRanges": []
   },
   "source": [
    "# Feature Removal"
   ]
  },
  {
   "cell_type": "markdown",
   "metadata": {
    "cell_id": "a6bc08d7350e483184414da4e21d73d8",
    "deepnote_app_block_visible": true,
    "deepnote_cell_type": "text-cell-p",
    "formattedRanges": []
   },
   "source": [
    "Se elimino. \n",
    "- Unnamed : 0\n",
    "- artists\n",
    "- album_name\n",
    "- track_id\n",
    "- track_name\n",
    "- explicit \n",
    "- time_signature\n",
    "- mode"
   ]
  },
  {
   "cell_type": "code",
   "execution_count": null,
   "metadata": {},
   "outputs": [],
   "source": [
    "# List of columns you want to delete\n",
    "columnas_a_eliminar = ['Unnamed: 0', 'artists', 'album_name', 'track_id', 'track_name', \n",
    "                       'explicit', 'time_signature', 'mode']\n",
    "\n",
    "# Remove columns from the DataFrame\n",
    "spotify = spotify.drop(columns=columnas_a_eliminar)\n",
    "\n",
    "# Verificar las primeras filas para confirmar que las columnas fueron eliminadas\n",
    "spotify.head()\n"
   ]
  },
  {
   "cell_type": "markdown",
   "metadata": {
    "cell_id": "9298c81383574c3a834a7eb1e456f98c",
    "deepnote_app_block_visible": true,
    "deepnote_cell_type": "text-cell-h2",
    "formattedRanges": []
   },
   "source": [
    "## Exploración nuevo DataSet \"spotify\""
   ]
  },
  {
   "cell_type": "markdown",
   "metadata": {
    "cell_id": "e0ac28f5e3624a2e9ec9063b24ea638b",
    "deepnote_app_block_visible": true,
    "deepnote_cell_type": "text-cell-h2",
    "formattedRanges": []
   },
   "source": [
    "## Correlation Matrix\r"
   ]
  },
  {
   "cell_type": "code",
   "execution_count": null,
   "metadata": {
    "cell_id": "db769cb4d97e4013822816bfe29b5423",
    "deepnote_app_block_visible": true,
    "deepnote_app_is_code_hidden": true,
    "deepnote_cell_type": "code",
    "deepnote_to_be_reexecuted": false,
    "execution_millis": 997,
    "execution_start": 1725932643981,
    "source_hash": null
   },
   "outputs": [],
   "source": [
    "# Selección de Datos Numéricos\n",
    "datosNumericos = spotify.select_dtypes(include=[np.number])\n",
    "\n",
    "# Calcular la matriz de correlación\n",
    "matriz_correlacion = datosNumericos.corr()\n",
    "\n",
    "# Mostrar la matriz de correlación\n",
    "plt.figure(figsize=(8, 6))\n",
    "sns.heatmap(matriz_correlacion, annot=True, fmt=\".2f\", cmap=\"coolwarm\", square=True, cbar_kws={'shrink': .8})\n",
    "plt.title('Matriz de Correlación')\n",
    "plt.show()"
   ]
  },
  {
   "cell_type": "markdown",
   "metadata": {
    "cell_id": "d6bcdc5ca70b423d8813e7399413c721",
    "deepnote_app_block_visible": true,
    "deepnote_cell_type": "text-cell-h3",
    "formattedRanges": [],
    "is_collapsed": false
   },
   "source": [
    "## Información del DataSet"
   ]
  },
  {
   "cell_type": "code",
   "execution_count": null,
   "metadata": {
    "cell_id": "05213e774573420399bc37fd7ad7ae85",
    "deepnote_app_block_visible": true,
    "deepnote_app_is_code_hidden": true,
    "deepnote_cell_type": "code",
    "deepnote_to_be_reexecuted": false,
    "execution_millis": 566,
    "execution_start": 1725932644988,
    "source_hash": null
   },
   "outputs": [],
   "source": [
    "spotify.info()"
   ]
  },
  {
   "cell_type": "markdown",
   "metadata": {
    "cell_id": "24a5c8e47c354b9c9b37d4efe2c06efd",
    "deepnote_app_block_visible": true,
    "deepnote_cell_type": "text-cell-h3",
    "formattedRanges": []
   },
   "source": [
    "## Cantidad total de datos\r"
   ]
  },
  {
   "cell_type": "code",
   "execution_count": null,
   "metadata": {
    "cell_id": "72a49b3b68f84a719ac4ddeee97ea1d7",
    "deepnote_app_block_visible": true,
    "deepnote_app_is_code_hidden": true,
    "deepnote_cell_type": "code",
    "deepnote_to_be_reexecuted": false,
    "execution_millis": 515,
    "execution_start": 1725932645040,
    "source_hash": null
   },
   "outputs": [],
   "source": [
    "spotify.dtypes.value_counts()"
   ]
  },
  {
   "cell_type": "markdown",
   "metadata": {
    "cell_id": "ebe89cd16f8a45ee9f6907c410ae6cd1",
    "deepnote_app_block_visible": true,
    "deepnote_cell_type": "text-cell-h1",
    "formattedRanges": []
   },
   "source": [
    "# Futuro"
   ]
  },
  {
   "cell_type": "markdown",
   "metadata": {
    "cell_id": "856bc90d8e734ae9bc57e591dc80f86e",
    "deepnote_app_block_visible": true,
    "deepnote_cell_type": "text-cell-p",
    "formattedRanges": []
   },
   "source": [
    "El objetivo de este proyecto es desarrrollar un sistema de recomendación de música. Utilizando como target popularity y ademas se usara K-Means y K-Vecinos más cercanos (K-NN). Hemos utilizado el procedimiento previo para preparar el conjunto de datos. \n",
    "- Escalado de variables: La mayoría de las variables numéricas han sido escaladas. Para asegurar que todas las características sean similares.\n",
    "- Eliminación de variables categóricas: Las variables categóricas se han eliminado o transformado con el método de Label Encoding, para evitar problemas con los algoritmos que no puedan procesar ese tipo de dato.\n",
    "\n",
    "El sistema de recomendación funcionará agrupando canciones similares (K-Means) o sugiriendo canciones basadas a las características (K-NN). De esta forma se busca que el sistema pueda recomendar canciones que se alineen con el gusto del usuario.\n",
    "Cabe recalcar que el método para lograr el objetivo puede cambiar al avanzar con el desarrollo y evaluación de los modelos. Nuestra intención es buscar el mejor modelo para nuestro Recomendador. "
   ]
  },
  {
   "cell_type": "markdown",
   "metadata": {},
   "source": [
    "# Save DataSet"
   ]
  },
  {
   "cell_type": "code",
   "execution_count": null,
   "metadata": {},
   "outputs": [],
   "source": [
    "rute_cvs_save = os.path.join('..','data','03_primary','3.spotify.csv')\n",
    "                             \n",
    "spotify.to_csv (rute_cvs_save, index=False)"
   ]
  },
  {
   "cell_type": "code",
   "execution_count": null,
   "metadata": {},
   "outputs": [],
   "source": [
    "# Cargar el archivo CSV\n",
    "spotify = pd.read_csv(ruta_csv_relativa)\n",
    "# Reemplazar valores infinitos por NaN en todo el DataFrame\n",
    "spotify.replace([float('inf'), float('-inf')], pd.NA, inplace=True)\n",
    "# Configurar estilo de gráficos\n",
    "sns.set(style=\"whitegrid\")\n",
    "# 1. Distribución de las características que afectan recomendaciones (danceability, energy, valence)\n",
    "plt.figure(figsize=(14,6))\n",
    "# Subplots para cada característica\n",
    "for i, feature in enumerate(['danceability', 'energy', 'valence'], 1):\n",
    "    plt.subplot(1, 3, i)\n",
    "    sns.histplot(spotify[feature].dropna(), bins=30, kde=True, color='teal')\n",
    "    plt.title(f'Distribución de {feature.capitalize()}')\n",
    "    plt.xlabel(feature.capitalize())\n",
    "    plt.ylabel('Frecuencia')\n",
    "plt.tight_layout()\n",
    "plt.show()\n",
    "# 2. Relación entre Género y las características para recomendaciones\n",
    "plt.figure(figsize=(14,8))\n",
    "top_genres = spotify['track_genre'].value_counts().nlargest(10)  # Top 10 géneros\n",
    "sns.boxplot(x='track_genre', y='danceability', data=spotify[spotify['track_genre'].isin(top_genres.index)].dropna(), palette='coolwarm')\n",
    "plt.title('Danceability por Género de Canción')\n",
    "plt.xticks(rotation=90)\n",
    "plt.show()\n",
    "# 3. Conteo de canciones explícitas\n",
    "plt.figure(figsize=(6,6))\n",
    "sns.countplot(x='explicit', data=spotify, palette='Set2')\n",
    "plt.title('Canciones Explícitas vs No Explícitas')\n",
    "plt.xlabel('Explícito')\n",
    "plt.ylabel('Conteo')\n",
    "plt.show()"
   ]
  },
  {
   "cell_type": "raw",
   "metadata": {},
   "source": [
    "### Explicación Grafico de Histograma: Distribución de Danceability: La imagen representa una forma de campana, lo que significa que la mayoria de las canciones son bailables, sugiriendo que no afecta en gran medida este campo al recomendar canciones para el usuario que varia en gustos. Distribución de Energy: El\n",
    "grafico lo representa con valores sesgado hacia el lado derecho, significando que la gran mayoria de canciones tienen energia alta, es decir, que si un usuario opta por 'x' cancion, lo más probable es que la recomendación deba ser con niveles de Energy similares o iguales. Distribución de Valence: Una distribución uniforme,\n",
    "sugiriendo que la mezcla de canciones tiene una positividad alta y baja, pero donde la concentración de estos valores esta por la mitad del grafico. En resumen, el sentimiento o ambiente de las canciones esta relacionada en su mayoria por estos tres campos donde la variabilidad de los valores es casi nula, permitiendo que la\n",
    "busqueda de canciones para el usuario sea la mayoria de veces acertada, debido a que no se encontraron graficos de distribución con valores atipicos, si no que más bien, sus resultados son por lo generales cercanos y por consiguiente, acertados. Boxplot de Danceability por genero de cancion: El siguiente grafico muestra las\n",
    "relaciones de los generos de musica, donde se destaca que cada caja muestra la distribución del campo Danceability por genero de musica. Como se puede observar, generos como 'Alt-Rock' y 'Afrobeat' tienen canciones más bailables que generos como 'ambiente' o 'blues'. Esto nos sirve para recomendar generos de musica\n",
    "para el usuario basadas en sus canciones favoritas, de esta forma tenemos los generos mas cercanos y los mas alejados. Cantidad de canciones con letras explicitas y no explicitas: Como se puede observar, la cantidad de canciones no explicitas ronda los más de 100.000 canciones, a comparaciónes de las canciones que si\n",
    "contienen letra explicita, donde el valor ronda los 8.000 a 10.000 canciones. Esta opción es crucial para la recomendaciones de canciones, puesto que si el usuario opta por canciones que tengan letras explicitas, en numero de recomendaciones baja drasticamente que eligiendo canciones sin letra explicitas, aun que tambienIn [1]:In [2]:Out[2]:In [3]:Out[3]:In [4]:In [5]:In [6]:In [7]:Out[7]:In [8]:In [9]:In [10]:Out[10]:In [11]:In [12]:\n",
    "da la opción de que pueda elegir en ambas opciones. Esto va acompañado con la pregunta de negocio 3, que nos muestra el numero exacto de canciones con letras explicitas por genero de musica. Conclución: Los graficos mostrados nos entregan una resolución amplia donde se abarcan temas de ambiente o sentimientos que\n",
    "entregan las canciones, similitud entre los generos de musica en base a su bailabilidad y cantidad de canciones con y sin letras explicitas. Esto nos permitira definir de una manera mas exacta las recomendaciones que entreguemos al usuario en base a sus gustos."
   ]
  }
 ],
 "metadata": {
  "deepnote_app_hide_all_code_blocks_enabled": true,
  "deepnote_app_layout": "powerful-article",
  "deepnote_app_reactivity_enabled": true,
  "deepnote_app_run_on_load_enabled": true,
  "deepnote_execution_queue": [],
  "deepnote_notebook_id": "3ab2b6ec0f6e4c4084b15e3752ce77b4",
  "kernelspec": {
   "display_name": "Python 3 (ipykernel)",
   "language": "python",
   "name": "python3"
  },
  "language_info": {
   "codemirror_mode": {
    "name": "ipython",
    "version": 3
   },
   "file_extension": ".py",
   "mimetype": "text/x-python",
   "name": "python",
   "nbconvert_exporter": "python",
   "pygments_lexer": "ipython3",
   "version": "3.11.6"
  }
 },
 "nbformat": 4,
 "nbformat_minor": 4
}

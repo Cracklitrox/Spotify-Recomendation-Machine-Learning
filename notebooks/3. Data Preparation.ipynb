{
 "cells": [
  {
   "cell_type": "markdown",
   "metadata": {
    "cell_id": "fd4199802e3742328ceed5fcb7eea783",
    "deepnote_app_block_visible": true,
    "deepnote_cell_type": "text-cell-h3",
    "formattedRanges": [],
    "is_collapsed": false
   },
   "source": [
    "### Librerías"
   ]
  },
  {
   "cell_type": "code",
   "execution_count": 1,
   "metadata": {
    "cell_id": "14d62af824bd4b69b0c7e6b44ab2ba91",
    "deepnote_app_block_visible": true,
    "deepnote_app_is_code_hidden": true,
    "deepnote_cell_type": "code",
    "deepnote_to_be_reexecuted": false,
    "execution_millis": 1227,
    "execution_start": 1725932641565,
    "source_hash": null
   },
   "outputs": [],
   "source": [
    "import os\n",
    "\n",
    "import pandas as pd\n",
    "import numpy as np\n",
    "\n",
    "import matplotlib.pyplot as plt\n",
    "import seaborn as sns\n",
    "\n",
    "import sklearn\n",
    "from sklearn.preprocessing import MinMaxScaler\n",
    "\n",
    "import plotly.express as px\n",
    "import plotly.graph_objects as go\n",
    "from plotly.subplots import make_subplots"
   ]
  },
  {
   "cell_type": "markdown",
   "metadata": {
    "cell_id": "82f21e881f344cc3b92539950fab8645",
    "deepnote_app_block_visible": true,
    "deepnote_cell_type": "text-cell-h3",
    "formattedRanges": [],
    "is_collapsed": false
   },
   "source": [
    "### Llamado Dataset"
   ]
  },
  {
   "cell_type": "code",
   "execution_count": 2,
   "metadata": {
    "cell_id": "886237ac00f2457e9f474f394bdebeb8",
    "deepnote_app_block_visible": true,
    "deepnote_app_is_code_hidden": true,
    "deepnote_cell_type": "code",
    "deepnote_to_be_reexecuted": false,
    "execution_millis": 773,
    "execution_start": 1725932642801,
    "source_hash": null
   },
   "outputs": [
    {
     "data": {
      "text/html": [
       "<div>\n",
       "<style scoped>\n",
       "    .dataframe tbody tr th:only-of-type {\n",
       "        vertical-align: middle;\n",
       "    }\n",
       "\n",
       "    .dataframe tbody tr th {\n",
       "        vertical-align: top;\n",
       "    }\n",
       "\n",
       "    .dataframe thead th {\n",
       "        text-align: right;\n",
       "    }\n",
       "</style>\n",
       "<table border=\"1\" class=\"dataframe\">\n",
       "  <thead>\n",
       "    <tr style=\"text-align: right;\">\n",
       "      <th></th>\n",
       "      <th>Unnamed: 0</th>\n",
       "      <th>track_id</th>\n",
       "      <th>artists</th>\n",
       "      <th>album_name</th>\n",
       "      <th>track_name</th>\n",
       "      <th>popularity</th>\n",
       "      <th>duration_ms</th>\n",
       "      <th>explicit</th>\n",
       "      <th>danceability</th>\n",
       "      <th>energy</th>\n",
       "      <th>...</th>\n",
       "      <th>loudness</th>\n",
       "      <th>mode</th>\n",
       "      <th>speechiness</th>\n",
       "      <th>acousticness</th>\n",
       "      <th>instrumentalness</th>\n",
       "      <th>liveness</th>\n",
       "      <th>valence</th>\n",
       "      <th>tempo</th>\n",
       "      <th>time_signature</th>\n",
       "      <th>track_genre</th>\n",
       "    </tr>\n",
       "  </thead>\n",
       "  <tbody>\n",
       "    <tr>\n",
       "      <th>0</th>\n",
       "      <td>0</td>\n",
       "      <td>5SuOikwiRyPMVoIQDJUgSV</td>\n",
       "      <td>Gen Hoshino</td>\n",
       "      <td>Comedy</td>\n",
       "      <td>Comedy</td>\n",
       "      <td>73</td>\n",
       "      <td>230666</td>\n",
       "      <td>False</td>\n",
       "      <td>0.676</td>\n",
       "      <td>0.4610</td>\n",
       "      <td>...</td>\n",
       "      <td>-6.746</td>\n",
       "      <td>0</td>\n",
       "      <td>0.1430</td>\n",
       "      <td>0.0322</td>\n",
       "      <td>0.000001</td>\n",
       "      <td>0.3580</td>\n",
       "      <td>0.7150</td>\n",
       "      <td>87.917</td>\n",
       "      <td>4</td>\n",
       "      <td>acoustic</td>\n",
       "    </tr>\n",
       "    <tr>\n",
       "      <th>1</th>\n",
       "      <td>1</td>\n",
       "      <td>4qPNDBW1i3p13qLCt0Ki3A</td>\n",
       "      <td>Ben Woodward</td>\n",
       "      <td>Ghost (Acoustic)</td>\n",
       "      <td>Ghost - Acoustic</td>\n",
       "      <td>55</td>\n",
       "      <td>149610</td>\n",
       "      <td>False</td>\n",
       "      <td>0.420</td>\n",
       "      <td>0.1660</td>\n",
       "      <td>...</td>\n",
       "      <td>-17.235</td>\n",
       "      <td>1</td>\n",
       "      <td>0.0763</td>\n",
       "      <td>0.9240</td>\n",
       "      <td>0.000006</td>\n",
       "      <td>0.1010</td>\n",
       "      <td>0.2670</td>\n",
       "      <td>77.489</td>\n",
       "      <td>4</td>\n",
       "      <td>acoustic</td>\n",
       "    </tr>\n",
       "    <tr>\n",
       "      <th>2</th>\n",
       "      <td>2</td>\n",
       "      <td>1iJBSr7s7jYXzM8EGcbK5b</td>\n",
       "      <td>Ingrid Michaelson;ZAYN</td>\n",
       "      <td>To Begin Again</td>\n",
       "      <td>To Begin Again</td>\n",
       "      <td>57</td>\n",
       "      <td>210826</td>\n",
       "      <td>False</td>\n",
       "      <td>0.438</td>\n",
       "      <td>0.3590</td>\n",
       "      <td>...</td>\n",
       "      <td>-9.734</td>\n",
       "      <td>1</td>\n",
       "      <td>0.0557</td>\n",
       "      <td>0.2100</td>\n",
       "      <td>0.000000</td>\n",
       "      <td>0.1170</td>\n",
       "      <td>0.1200</td>\n",
       "      <td>76.332</td>\n",
       "      <td>4</td>\n",
       "      <td>acoustic</td>\n",
       "    </tr>\n",
       "    <tr>\n",
       "      <th>3</th>\n",
       "      <td>3</td>\n",
       "      <td>6lfxq3CG4xtTiEg7opyCyx</td>\n",
       "      <td>Kina Grannis</td>\n",
       "      <td>Crazy Rich Asians (Original Motion Picture Sou...</td>\n",
       "      <td>Can't Help Falling In Love</td>\n",
       "      <td>71</td>\n",
       "      <td>201933</td>\n",
       "      <td>False</td>\n",
       "      <td>0.266</td>\n",
       "      <td>0.0596</td>\n",
       "      <td>...</td>\n",
       "      <td>-18.515</td>\n",
       "      <td>1</td>\n",
       "      <td>0.0363</td>\n",
       "      <td>0.9050</td>\n",
       "      <td>0.000071</td>\n",
       "      <td>0.1320</td>\n",
       "      <td>0.1430</td>\n",
       "      <td>181.740</td>\n",
       "      <td>3</td>\n",
       "      <td>acoustic</td>\n",
       "    </tr>\n",
       "    <tr>\n",
       "      <th>4</th>\n",
       "      <td>4</td>\n",
       "      <td>5vjLSffimiIP26QG5WcN2K</td>\n",
       "      <td>Chord Overstreet</td>\n",
       "      <td>Hold On</td>\n",
       "      <td>Hold On</td>\n",
       "      <td>82</td>\n",
       "      <td>198853</td>\n",
       "      <td>False</td>\n",
       "      <td>0.618</td>\n",
       "      <td>0.4430</td>\n",
       "      <td>...</td>\n",
       "      <td>-9.681</td>\n",
       "      <td>1</td>\n",
       "      <td>0.0526</td>\n",
       "      <td>0.4690</td>\n",
       "      <td>0.000000</td>\n",
       "      <td>0.0829</td>\n",
       "      <td>0.1670</td>\n",
       "      <td>119.949</td>\n",
       "      <td>4</td>\n",
       "      <td>acoustic</td>\n",
       "    </tr>\n",
       "    <tr>\n",
       "      <th>5</th>\n",
       "      <td>5</td>\n",
       "      <td>01MVOl9KtVTNfFiBU9I7dc</td>\n",
       "      <td>Tyrone Wells</td>\n",
       "      <td>Days I Will Remember</td>\n",
       "      <td>Days I Will Remember</td>\n",
       "      <td>58</td>\n",
       "      <td>214240</td>\n",
       "      <td>False</td>\n",
       "      <td>0.688</td>\n",
       "      <td>0.4810</td>\n",
       "      <td>...</td>\n",
       "      <td>-8.807</td>\n",
       "      <td>1</td>\n",
       "      <td>0.1050</td>\n",
       "      <td>0.2890</td>\n",
       "      <td>0.000000</td>\n",
       "      <td>0.1890</td>\n",
       "      <td>0.6660</td>\n",
       "      <td>98.017</td>\n",
       "      <td>4</td>\n",
       "      <td>acoustic</td>\n",
       "    </tr>\n",
       "    <tr>\n",
       "      <th>6</th>\n",
       "      <td>6</td>\n",
       "      <td>6Vc5wAMmXdKIAM7WUoEb7N</td>\n",
       "      <td>A Great Big World;Christina Aguilera</td>\n",
       "      <td>Is There Anybody Out There?</td>\n",
       "      <td>Say Something</td>\n",
       "      <td>74</td>\n",
       "      <td>229400</td>\n",
       "      <td>False</td>\n",
       "      <td>0.407</td>\n",
       "      <td>0.1470</td>\n",
       "      <td>...</td>\n",
       "      <td>-8.822</td>\n",
       "      <td>1</td>\n",
       "      <td>0.0355</td>\n",
       "      <td>0.8570</td>\n",
       "      <td>0.000003</td>\n",
       "      <td>0.0913</td>\n",
       "      <td>0.0765</td>\n",
       "      <td>141.284</td>\n",
       "      <td>3</td>\n",
       "      <td>acoustic</td>\n",
       "    </tr>\n",
       "    <tr>\n",
       "      <th>7</th>\n",
       "      <td>7</td>\n",
       "      <td>1EzrEOXmMH3G43AXT1y7pA</td>\n",
       "      <td>Jason Mraz</td>\n",
       "      <td>We Sing. We Dance. We Steal Things.</td>\n",
       "      <td>I'm Yours</td>\n",
       "      <td>80</td>\n",
       "      <td>242946</td>\n",
       "      <td>False</td>\n",
       "      <td>0.703</td>\n",
       "      <td>0.4440</td>\n",
       "      <td>...</td>\n",
       "      <td>-9.331</td>\n",
       "      <td>1</td>\n",
       "      <td>0.0417</td>\n",
       "      <td>0.5590</td>\n",
       "      <td>0.000000</td>\n",
       "      <td>0.0973</td>\n",
       "      <td>0.7120</td>\n",
       "      <td>150.960</td>\n",
       "      <td>4</td>\n",
       "      <td>acoustic</td>\n",
       "    </tr>\n",
       "    <tr>\n",
       "      <th>8</th>\n",
       "      <td>8</td>\n",
       "      <td>0IktbUcnAGrvD03AWnz3Q8</td>\n",
       "      <td>Jason Mraz;Colbie Caillat</td>\n",
       "      <td>We Sing. We Dance. We Steal Things.</td>\n",
       "      <td>Lucky</td>\n",
       "      <td>74</td>\n",
       "      <td>189613</td>\n",
       "      <td>False</td>\n",
       "      <td>0.625</td>\n",
       "      <td>0.4140</td>\n",
       "      <td>...</td>\n",
       "      <td>-8.700</td>\n",
       "      <td>1</td>\n",
       "      <td>0.0369</td>\n",
       "      <td>0.2940</td>\n",
       "      <td>0.000000</td>\n",
       "      <td>0.1510</td>\n",
       "      <td>0.6690</td>\n",
       "      <td>130.088</td>\n",
       "      <td>4</td>\n",
       "      <td>acoustic</td>\n",
       "    </tr>\n",
       "    <tr>\n",
       "      <th>9</th>\n",
       "      <td>9</td>\n",
       "      <td>7k9GuJYLp2AzqokyEdwEw2</td>\n",
       "      <td>Ross Copperman</td>\n",
       "      <td>Hunger</td>\n",
       "      <td>Hunger</td>\n",
       "      <td>56</td>\n",
       "      <td>205594</td>\n",
       "      <td>False</td>\n",
       "      <td>0.442</td>\n",
       "      <td>0.6320</td>\n",
       "      <td>...</td>\n",
       "      <td>-6.770</td>\n",
       "      <td>1</td>\n",
       "      <td>0.0295</td>\n",
       "      <td>0.4260</td>\n",
       "      <td>0.004190</td>\n",
       "      <td>0.0735</td>\n",
       "      <td>0.1960</td>\n",
       "      <td>78.899</td>\n",
       "      <td>4</td>\n",
       "      <td>acoustic</td>\n",
       "    </tr>\n",
       "  </tbody>\n",
       "</table>\n",
       "<p>10 rows × 21 columns</p>\n",
       "</div>"
      ],
      "text/plain": [
       "   Unnamed: 0                track_id                               artists  \\\n",
       "0           0  5SuOikwiRyPMVoIQDJUgSV                           Gen Hoshino   \n",
       "1           1  4qPNDBW1i3p13qLCt0Ki3A                          Ben Woodward   \n",
       "2           2  1iJBSr7s7jYXzM8EGcbK5b                Ingrid Michaelson;ZAYN   \n",
       "3           3  6lfxq3CG4xtTiEg7opyCyx                          Kina Grannis   \n",
       "4           4  5vjLSffimiIP26QG5WcN2K                      Chord Overstreet   \n",
       "5           5  01MVOl9KtVTNfFiBU9I7dc                          Tyrone Wells   \n",
       "6           6  6Vc5wAMmXdKIAM7WUoEb7N  A Great Big World;Christina Aguilera   \n",
       "7           7  1EzrEOXmMH3G43AXT1y7pA                            Jason Mraz   \n",
       "8           8  0IktbUcnAGrvD03AWnz3Q8             Jason Mraz;Colbie Caillat   \n",
       "9           9  7k9GuJYLp2AzqokyEdwEw2                        Ross Copperman   \n",
       "\n",
       "                                          album_name  \\\n",
       "0                                             Comedy   \n",
       "1                                   Ghost (Acoustic)   \n",
       "2                                     To Begin Again   \n",
       "3  Crazy Rich Asians (Original Motion Picture Sou...   \n",
       "4                                            Hold On   \n",
       "5                               Days I Will Remember   \n",
       "6                        Is There Anybody Out There?   \n",
       "7                We Sing. We Dance. We Steal Things.   \n",
       "8                We Sing. We Dance. We Steal Things.   \n",
       "9                                             Hunger   \n",
       "\n",
       "                   track_name  popularity  duration_ms  explicit  \\\n",
       "0                      Comedy          73       230666     False   \n",
       "1            Ghost - Acoustic          55       149610     False   \n",
       "2              To Begin Again          57       210826     False   \n",
       "3  Can't Help Falling In Love          71       201933     False   \n",
       "4                     Hold On          82       198853     False   \n",
       "5        Days I Will Remember          58       214240     False   \n",
       "6               Say Something          74       229400     False   \n",
       "7                   I'm Yours          80       242946     False   \n",
       "8                       Lucky          74       189613     False   \n",
       "9                      Hunger          56       205594     False   \n",
       "\n",
       "   danceability  energy  ...  loudness  mode  speechiness  acousticness  \\\n",
       "0         0.676  0.4610  ...    -6.746     0       0.1430        0.0322   \n",
       "1         0.420  0.1660  ...   -17.235     1       0.0763        0.9240   \n",
       "2         0.438  0.3590  ...    -9.734     1       0.0557        0.2100   \n",
       "3         0.266  0.0596  ...   -18.515     1       0.0363        0.9050   \n",
       "4         0.618  0.4430  ...    -9.681     1       0.0526        0.4690   \n",
       "5         0.688  0.4810  ...    -8.807     1       0.1050        0.2890   \n",
       "6         0.407  0.1470  ...    -8.822     1       0.0355        0.8570   \n",
       "7         0.703  0.4440  ...    -9.331     1       0.0417        0.5590   \n",
       "8         0.625  0.4140  ...    -8.700     1       0.0369        0.2940   \n",
       "9         0.442  0.6320  ...    -6.770     1       0.0295        0.4260   \n",
       "\n",
       "   instrumentalness  liveness  valence    tempo  time_signature  track_genre  \n",
       "0          0.000001    0.3580   0.7150   87.917               4     acoustic  \n",
       "1          0.000006    0.1010   0.2670   77.489               4     acoustic  \n",
       "2          0.000000    0.1170   0.1200   76.332               4     acoustic  \n",
       "3          0.000071    0.1320   0.1430  181.740               3     acoustic  \n",
       "4          0.000000    0.0829   0.1670  119.949               4     acoustic  \n",
       "5          0.000000    0.1890   0.6660   98.017               4     acoustic  \n",
       "6          0.000003    0.0913   0.0765  141.284               3     acoustic  \n",
       "7          0.000000    0.0973   0.7120  150.960               4     acoustic  \n",
       "8          0.000000    0.1510   0.6690  130.088               4     acoustic  \n",
       "9          0.004190    0.0735   0.1960   78.899               4     acoustic  \n",
       "\n",
       "[10 rows x 21 columns]"
      ]
     },
     "execution_count": 2,
     "metadata": {},
     "output_type": "execute_result"
    }
   ],
   "source": [
    "# Obtener el directorio actual de trabajo\n",
    "directorio_actual = os.getcwd()\n",
    "\n",
    "# Especificar la ruta relativa desde el directorio actual\n",
    "ruta_csv_relativa = os.path.join('..', 'data', '01_raw','spotify.csv')\n",
    "\n",
    "# Cargar el archivo CSV\n",
    "spotify = pd.read_csv(ruta_csv_relativa)\n",
    "\n",
    "# Mostrar las primeras filas del DataFrame\n",
    "spotify.head(10)"
   ]
  },
  {
   "cell_type": "markdown",
   "metadata": {
    "cell_id": "25eecddbc5554bc4ac72a072dee04528",
    "deepnote_app_block_visible": true,
    "deepnote_cell_type": "text-cell-h2",
    "formattedRanges": [],
    "is_collapsed": false
   },
   "source": [
    "## Escalado de datos"
   ]
  },
  {
   "cell_type": "markdown",
   "metadata": {
    "cell_id": "cbeb41f0aea64f549d7e59f0f7875eb7",
    "deepnote_app_block_visible": true,
    "deepnote_cell_type": "text-cell-p",
    "formattedRanges": []
   },
   "source": [
    "Este escalado de variables es para poder trabajar con los modelos en un futuro"
   ]
  },
  {
   "cell_type": "markdown",
   "metadata": {
    "cell_id": "562c3c70b3f94146a76e6165dc0820a8",
    "deepnote_app_block_visible": true,
    "deepnote_cell_type": "text-cell-h3",
    "formattedRanges": []
   },
   "source": [
    "### duration_ms Scaler"
   ]
  },
  {
   "cell_type": "markdown",
   "metadata": {
    "cell_id": "7c611ef55e4046b8ab830af2eae93a21",
    "deepnote_app_block_visible": true,
    "deepnote_cell_type": "text-cell-h3",
    "formattedRanges": [],
    "is_collapsed": false
   },
   "source": [
    "### population Scaler"
   ]
  },
  {
   "cell_type": "code",
   "execution_count": 3,
   "metadata": {
    "cell_id": "6deb6c33fd3748739d6837b50afa85b9",
    "deepnote_app_block_visible": true,
    "deepnote_app_is_code_hidden": true,
    "deepnote_cell_type": "code",
    "deepnote_to_be_reexecuted": false,
    "execution_millis": 296,
    "execution_start": 1725932643659,
    "source_hash": null
   },
   "outputs": [
    {
     "data": {
      "text/html": [
       "<div>\n",
       "<style scoped>\n",
       "    .dataframe tbody tr th:only-of-type {\n",
       "        vertical-align: middle;\n",
       "    }\n",
       "\n",
       "    .dataframe tbody tr th {\n",
       "        vertical-align: top;\n",
       "    }\n",
       "\n",
       "    .dataframe thead th {\n",
       "        text-align: right;\n",
       "    }\n",
       "</style>\n",
       "<table border=\"1\" class=\"dataframe\">\n",
       "  <thead>\n",
       "    <tr style=\"text-align: right;\">\n",
       "      <th></th>\n",
       "      <th>popularity</th>\n",
       "      <th>popularity_scaled</th>\n",
       "    </tr>\n",
       "  </thead>\n",
       "  <tbody>\n",
       "    <tr>\n",
       "      <th>0</th>\n",
       "      <td>73</td>\n",
       "      <td>0.73</td>\n",
       "    </tr>\n",
       "    <tr>\n",
       "      <th>1</th>\n",
       "      <td>55</td>\n",
       "      <td>0.55</td>\n",
       "    </tr>\n",
       "    <tr>\n",
       "      <th>2</th>\n",
       "      <td>57</td>\n",
       "      <td>0.57</td>\n",
       "    </tr>\n",
       "    <tr>\n",
       "      <th>3</th>\n",
       "      <td>71</td>\n",
       "      <td>0.71</td>\n",
       "    </tr>\n",
       "    <tr>\n",
       "      <th>4</th>\n",
       "      <td>82</td>\n",
       "      <td>0.82</td>\n",
       "    </tr>\n",
       "  </tbody>\n",
       "</table>\n",
       "</div>"
      ],
      "text/plain": [
       "   popularity  popularity_scaled\n",
       "0          73               0.73\n",
       "1          55               0.55\n",
       "2          57               0.57\n",
       "3          71               0.71\n",
       "4          82               0.82"
      ]
     },
     "execution_count": 3,
     "metadata": {},
     "output_type": "execute_result"
    }
   ],
   "source": [
    "from sklearn.preprocessing import StandardScaler\n",
    "\n",
    "# Crear un objeto StandardScaler\n",
    "scaler = MinMaxScaler()\n",
    "\n",
    "# Seleccionar solo la columna de popularidad para escalar\n",
    "spotify['popularity_scaled'] = scaler.fit_transform(spotify[['popularity']])\n",
    "\n",
    "# Mostrar las primeras filas para verificar\n",
    "spotify[['popularity', 'popularity_scaled']].head()\n"
   ]
  },
  {
   "cell_type": "markdown",
   "metadata": {
    "cell_id": "7d2f68c56fe441bcbff4ffdfc0a22806",
    "deepnote_app_block_visible": true,
    "deepnote_cell_type": "text-cell-h3",
    "formattedRanges": []
   },
   "source": [
    "### Group feature Scaler"
   ]
  },
  {
   "cell_type": "code",
   "execution_count": 4,
   "metadata": {
    "cell_id": "f035b5a1dce44209912316538ab27614",
    "deepnote_app_block_visible": true,
    "deepnote_app_is_code_hidden": true,
    "deepnote_cell_type": "code",
    "deepnote_to_be_reexecuted": false,
    "execution_millis": 46,
    "execution_start": 1725932768058,
    "source_hash": null
   },
   "outputs": [
    {
     "name": "stdout",
     "output_type": "stream",
     "text": [
      "Caracteristicas escaladas:  ['danceability', 'energy', 'loudness', 'speechiness', 'acousticness', 'instrumentalness', 'liveness', 'valence', 'tempo']\n"
     ]
    }
   ],
   "source": [
    "from sklearn.preprocessing import MinMaxScaler\n",
    "\n",
    "# Seleccionar las características numéricas para escalar\n",
    "features_to_scale = ['danceability', 'energy', 'loudness', 'speechiness', \n",
    "                     'acousticness', 'instrumentalness', 'liveness', \n",
    "                     'valence', 'tempo']\n",
    "\n",
    "scaler = MinMaxScaler()\n",
    "spotify[features_to_scale] = scaler.fit_transform(spotify[features_to_scale])\n",
    "\n",
    "print('Caracteristicas escaladas: ', features_to_scale)"
   ]
  },
  {
   "cell_type": "markdown",
   "metadata": {
    "cell_id": "5cf5381715fd492ca7b03aa8f9e9ab79",
    "deepnote_app_block_visible": true,
    "deepnote_cell_type": "text-cell-h2",
    "formattedRanges": []
   },
   "source": [
    "## Creación de nuevas característica"
   ]
  },
  {
   "cell_type": "markdown",
   "metadata": {
    "cell_id": "7e851f9ce54d43d5b7f3e5a3d8853a2d",
    "deepnote_app_block_visible": true,
    "deepnote_cell_type": "text-cell-h3",
    "formattedRanges": []
   },
   "source": [
    "### duration_ms a tiempo_ms_seconds"
   ]
  },
  {
   "cell_type": "markdown",
   "metadata": {
    "cell_id": "6740c2a232354be483f01bc5653bf837",
    "deepnote_app_block_visible": true,
    "deepnote_cell_type": "text-cell-p",
    "formattedRanges": []
   },
   "source": [
    "La duración_ms se calculo para que los valores de milisegundos se pasen a minutos y segundos"
   ]
  },
  {
   "cell_type": "code",
   "execution_count": 5,
   "metadata": {
    "cell_id": "49f60e3f26974eaf95fae74ecee11b8f",
    "deepnote_app_block_visible": true,
    "deepnote_app_is_code_hidden": true,
    "deepnote_cell_type": "code",
    "deepnote_output_height_limit_disabled": true,
    "deepnote_to_be_reexecuted": false,
    "execution_millis": 224,
    "execution_start": 1725932643731,
    "is_code_hidden": false,
    "source_hash": null
   },
   "outputs": [
    {
     "name": "stdout",
     "output_type": "stream",
     "text": [
      "0    3 minutos con 50 segundos\n",
      "1    2 minutos con 29 segundos\n",
      "2    3 minutos con 30 segundos\n",
      "3    3 minutos con 21 segundos\n",
      "4    3 minutos con 18 segundos\n",
      "5    3 minutos con 34 segundos\n",
      "6    3 minutos con 49 segundos\n",
      "7     4 minutos con 2 segundos\n",
      "8     3 minutos con 9 segundos\n",
      "9    3 minutos con 25 segundos\n",
      "Name: duration_ms_scaled, dtype: object\n"
     ]
    }
   ],
   "source": [
    "# Convertir milisegundos a segundos\n",
    "spotify['tiempo_ms_seconds'] = spotify['duration_ms'] / 1000\n",
    "\n",
    "# Función para convertir segundos a formato de minutos y segundos\n",
    "def segundos_a_formato(segundos):\n",
    "    minutos = int(segundos // 60)\n",
    "    segundos_restantes = int(segundos % 60)\n",
    "    return f\"{minutos} minuto{'s' if minutos != 1 else ''} con {segundos_restantes} segundo{'s' if segundos_restantes != 1 else ''}\"\n",
    "\n",
    "# Aplicar la función a la columna de segundos\n",
    "spotify['duration_ms_scaled'] = spotify['tiempo_ms_seconds'].apply(segundos_a_formato)\n",
    "\n",
    "# Mostrar los primeros 10 valores formateados\n",
    "print(spotify['duration_ms_scaled'].head(10))\n"
   ]
  },
  {
   "cell_type": "markdown",
   "metadata": {
    "cell_id": "b8f251c2af3f4ecc8d69922896d92c48",
    "deepnote_app_block_visible": true,
    "deepnote_cell_type": "text-cell-h3",
    "formattedRanges": []
   },
   "source": [
    "### tranck_genre a Label Encoding"
   ]
  },
  {
   "cell_type": "markdown",
   "metadata": {
    "cell_id": "511168c7c30b4c5d99db5feaa895dc5e",
    "deepnote_app_block_visible": true,
    "deepnote_cell_type": "text-cell-p",
    "formattedRanges": []
   },
   "source": [
    "Cambiar la etiqueta categórica de track_genre a un valor numérico."
   ]
  },
  {
   "cell_type": "code",
   "execution_count": 6,
   "metadata": {
    "cell_id": "56ec0fe2682341d18653c8621c93f84e",
    "deepnote_app_block_visible": true,
    "deepnote_app_is_code_hidden": true,
    "deepnote_cell_type": "code",
    "deepnote_to_be_reexecuted": false,
    "execution_millis": 253,
    "execution_start": 1725932643925,
    "source_hash": null
   },
   "outputs": [
    {
     "name": "stdout",
     "output_type": "stream",
     "text": [
      "  track_genre  track_genre_encoded\n",
      "0    acoustic                    0\n",
      "1    acoustic                    0\n",
      "2    acoustic                    0\n",
      "3    acoustic                    0\n",
      "4    acoustic                    0\n"
     ]
    }
   ],
   "source": [
    "from sklearn.preprocessing import LabelEncoder\n",
    "\n",
    "# Crear el codificador de etiquetas\n",
    "le = LabelEncoder()\n",
    "\n",
    "# Aplicar Label Encoding a la columna 'track_genre'\n",
    "spotify['track_genre_encoded'] = le.fit_transform(spotify['track_genre'])\n",
    "\n",
    "# Ver las primeras filas para verificar la codificación\n",
    "print(spotify[['track_genre', 'track_genre_encoded']].head())\n"
   ]
  },
  {
   "cell_type": "markdown",
   "metadata": {
    "cell_id": "6b764423d93044cc8e2122c2316da7b4",
    "deepnote_app_block_visible": true,
    "deepnote_cell_type": "text-cell-h3",
    "formattedRanges": []
   },
   "source": [
    "### Nueva variable \"Intensity\""
   ]
  },
  {
   "cell_type": "markdown",
   "metadata": {
    "cell_id": "76c1b55990754ff393adeea81ea412c7",
    "deepnote_app_block_visible": true,
    "deepnote_cell_type": "text-cell-p",
    "formattedRanges": []
   },
   "source": [
    "Al tener una buena correlación gracias a la matriz, decidimos optar por juntar la energy con la danceability"
   ]
  },
  {
   "cell_type": "code",
   "execution_count": 7,
   "metadata": {
    "cell_id": "493fab1147764e6abb075cff05e345fb",
    "deepnote_app_block_visible": true,
    "deepnote_app_is_code_hidden": true,
    "deepnote_cell_type": "code",
    "deepnote_to_be_reexecuted": false,
    "execution_millis": 86,
    "execution_start": 1725932696106,
    "source_hash": null
   },
   "outputs": [
    {
     "data": {
      "text/plain": [
       "0    0.316382\n",
       "1    0.070782\n",
       "2    0.159637\n",
       "3    0.016095\n",
       "4    0.277943\n",
       "5    0.335968\n",
       "6    0.060740\n",
       "7    0.316885\n",
       "8    0.262690\n",
       "9    0.283598\n",
       "Name: intensity, dtype: float64"
      ]
     },
     "execution_count": 7,
     "metadata": {},
     "output_type": "execute_result"
    }
   ],
   "source": [
    "# Crear una nueva columna de \"intensidad\"\n",
    "spotify['intensity'] = spotify['energy'] * spotify['danceability']\n",
    "\n",
    "spotify['intensity'].head(10)"
   ]
  },
  {
   "cell_type": "markdown",
   "metadata": {
    "cell_id": "3685de03938841588289502bfdf79467",
    "deepnote_app_block_visible": true,
    "deepnote_cell_type": "text-cell-h2",
    "formattedRanges": []
   },
   "source": [
    "## Eliminación de característica"
   ]
  },
  {
   "cell_type": "markdown",
   "metadata": {
    "cell_id": "a6bc08d7350e483184414da4e21d73d8",
    "deepnote_app_block_visible": true,
    "deepnote_cell_type": "text-cell-p",
    "formattedRanges": []
   },
   "source": [
    "Se elimino. "
   ]
  },
  {
   "cell_type": "markdown",
   "metadata": {
    "cell_id": "3fc76c8a82ec4b87a70c6f239c805098",
    "deepnote_app_block_visible": true,
    "deepnote_cell_type": "text-cell-p",
    "formattedRanges": []
   },
   "source": [
    "Unnamed : 0 - artitst - album_name - track_id - track_name - explicit - time_signature - mode - duration_ms - log_duration_ms"
   ]
  },
  {
   "cell_type": "markdown",
   "metadata": {
    "cell_id": "e0ac28f5e3624a2e9ec9063b24ea638b",
    "deepnote_app_block_visible": true,
    "deepnote_cell_type": "text-cell-h2",
    "formattedRanges": []
   },
   "source": [
    "## Correlation Matrix\r"
   ]
  },
  {
   "cell_type": "code",
   "execution_count": 8,
   "metadata": {
    "cell_id": "db769cb4d97e4013822816bfe29b5423",
    "deepnote_app_block_visible": true,
    "deepnote_app_is_code_hidden": true,
    "deepnote_cell_type": "code",
    "deepnote_to_be_reexecuted": false,
    "execution_millis": 997,
    "execution_start": 1725932643981,
    "source_hash": null
   },
   "outputs": [
    {
     "data": {
      "image/png": "[encoded data removed]",
      "text/plain": [
       "<Figure size 800x600 with 2 Axes>"
      ]
     },
     "metadata": {},
     "output_type": "display_data"
    }
   ],
   "source": [
    "# Selección de Datos Numéricos\n",
    "datosNumericos = spotify.select_dtypes(include=[np.number])\n",
    "\n",
    "# Calcular la matriz de correlación\n",
    "matriz_correlacion = datosNumericos.corr()\n",
    "\n",
    "# Mostrar la matriz de correlación\n",
    "plt.figure(figsize=(8, 6))\n",
    "sns.heatmap(matriz_correlacion, annot=True, fmt=\".2f\", cmap=\"coolwarm\", square=True, cbar_kws={'shrink': .8})\n",
    "plt.title('Matriz de Correlación')\n",
    "plt.show()"
   ]
  },
  {
   "cell_type": "markdown",
   "metadata": {
    "cell_id": "9298c81383574c3a834a7eb1e456f98c",
    "deepnote_app_block_visible": true,
    "deepnote_cell_type": "text-cell-h2",
    "formattedRanges": []
   },
   "source": [
    "## Exploración nuevo DataSet \"spotify\""
   ]
  },
  {
   "cell_type": "markdown",
   "metadata": {
    "cell_id": "d6bcdc5ca70b423d8813e7399413c721",
    "deepnote_app_block_visible": true,
    "deepnote_cell_type": "text-cell-h3",
    "formattedRanges": [],
    "is_collapsed": false
   },
   "source": [
    "### Información del DataSet"
   ]
  },
  {
   "cell_type": "code",
   "execution_count": 9,
   "metadata": {
    "cell_id": "05213e774573420399bc37fd7ad7ae85",
    "deepnote_app_block_visible": true,
    "deepnote_app_is_code_hidden": true,
    "deepnote_cell_type": "code",
    "deepnote_to_be_reexecuted": false,
    "execution_millis": 566,
    "execution_start": 1725932644988,
    "source_hash": null
   },
   "outputs": [
    {
     "name": "stdout",
     "output_type": "stream",
     "text": [
      "<class 'pandas.core.frame.DataFrame'>\n",
      "RangeIndex: 114000 entries, 0 to 113999\n",
      "Data columns (total 26 columns):\n",
      " #   Column               Non-Null Count   Dtype  \n",
      "---  ------               --------------   -----  \n",
      " 0   Unnamed: 0           114000 non-null  int64  \n",
      " 1   track_id             114000 non-null  object \n",
      " 2   artists              113999 non-null  object \n",
      " 3   album_name           113999 non-null  object \n",
      " 4   track_name           113999 non-null  object \n",
      " 5   popularity           114000 non-null  int64  \n",
      " 6   duration_ms          114000 non-null  int64  \n",
      " 7   explicit             114000 non-null  bool   \n",
      " 8   danceability         114000 non-null  float64\n",
      " 9   energy               114000 non-null  float64\n",
      " 10  key                  114000 non-null  int64  \n",
      " 11  loudness             114000 non-null  float64\n",
      " 12  mode                 114000 non-null  int64  \n",
      " 13  speechiness          114000 non-null  float64\n",
      " 14  acousticness         114000 non-null  float64\n",
      " 15  instrumentalness     114000 non-null  float64\n",
      " 16  liveness             114000 non-null  float64\n",
      " 17  valence              114000 non-null  float64\n",
      " 18  tempo                114000 non-null  float64\n",
      " 19  time_signature       114000 non-null  int64  \n",
      " 20  track_genre          114000 non-null  object \n",
      " 21  popularity_scaled    114000 non-null  float64\n",
      " 22  tiempo_ms_seconds    114000 non-null  float64\n",
      " 23  duration_ms_scaled   114000 non-null  object \n",
      " 24  track_genre_encoded  114000 non-null  int64  \n",
      " 25  intensity            114000 non-null  float64\n",
      "dtypes: bool(1), float64(12), int64(7), object(6)\n",
      "memory usage: 21.9+ MB\n"
     ]
    }
   ],
   "source": [
    "spotify.info()"
   ]
  },
  {
   "cell_type": "markdown",
   "metadata": {
    "cell_id": "24a5c8e47c354b9c9b37d4efe2c06efd",
    "deepnote_app_block_visible": true,
    "deepnote_cell_type": "text-cell-h3",
    "formattedRanges": []
   },
   "source": [
    "### Cantidad total de datos\r"
   ]
  },
  {
   "cell_type": "code",
   "execution_count": 10,
   "metadata": {
    "cell_id": "72a49b3b68f84a719ac4ddeee97ea1d7",
    "deepnote_app_block_visible": true,
    "deepnote_app_is_code_hidden": true,
    "deepnote_cell_type": "code",
    "deepnote_to_be_reexecuted": false,
    "execution_millis": 515,
    "execution_start": 1725932645040,
    "source_hash": null
   },
   "outputs": [
    {
     "data": {
      "text/plain": [
       "float64    12\n",
       "int64       7\n",
       "object      6\n",
       "bool        1\n",
       "Name: count, dtype: int64"
      ]
     },
     "execution_count": 10,
     "metadata": {},
     "output_type": "execute_result"
    }
   ],
   "source": [
    "spotify.dtypes.value_counts()"
   ]
  },
  {
   "cell_type": "markdown",
   "metadata": {
    "cell_id": "ebe89cd16f8a45ee9f6907c410ae6cd1",
    "deepnote_app_block_visible": true,
    "deepnote_cell_type": "text-cell-h1",
    "formattedRanges": []
   },
   "source": [
    "# Futuro"
   ]
  },
  {
   "cell_type": "markdown",
   "metadata": {
    "cell_id": "856bc90d8e734ae9bc57e591dc80f86e",
    "deepnote_app_block_visible": true,
    "deepnote_cell_type": "text-cell-p",
    "formattedRanges": []
   },
   "source": [
    "El objetivo de este proyecto es desarrrollar un sistema de recomendación de música. Específicamente usando K-Means y K-Vecinos más cercanos (K-NN). Hemos utilizado el procedimiento previo para preparar el conjunto de datos. "
   ]
  },
  {
   "cell_type": "markdown",
   "metadata": {
    "cell_id": "8e7288ff6c1f44e2a02066611200a4a6",
    "deepnote_app_block_visible": true,
    "deepnote_cell_type": "text-cell-bullet",
    "formattedRanges": [
     {
      "fromCodePoint": 0,
      "marks": {
       "bold": true
      },
      "toCodePoint": 23,
      "type": "marks"
     }
    ]
   },
   "source": [
    "- Escalado de variables: La mayoría de las variables numéricas han sido escaladas. Para asegurar que todas las características sean similares."
   ]
  },
  {
   "cell_type": "markdown",
   "metadata": {
    "cell_id": "000ca8c5030b410b8726bb3661d77edb",
    "deepnote_app_block_visible": true,
    "deepnote_cell_type": "text-cell-bullet",
    "formattedRanges": [
     {
      "fromCodePoint": 0,
      "marks": {
       "bold": true
      },
      "toCodePoint": 37,
      "type": "marks"
     }
    ]
   },
   "source": [
    "- Eliminación de variables categóricas: Las variables categóricas se han eliminado o transformado con el método de Label Encoding, para evitar problemas con los algoritmos que no puedan procesar ese tipo de dato."
   ]
  },
  {
   "cell_type": "markdown",
   "metadata": {
    "cell_id": "351af5e909994a8fa0a79b1ffbcf36de",
    "deepnote_app_block_visible": true,
    "deepnote_cell_type": "text-cell-p",
    "formattedRanges": []
   },
   "source": [
    "El sistema de recomendación funcionará agrupando canciones similares (K-Means) o sugiriendo canciones basadas a las características (K-NN). De esta forma se busca que el sistema pueda recomendar canciones que se alineen con el gusto del usuario."
   ]
  },
  {
   "cell_type": "markdown",
   "metadata": {
    "cell_id": "5d5254834f3a46dbb649399964e1ec6b",
    "deepnote_app_block_visible": true,
    "deepnote_cell_type": "text-cell-p",
    "formattedRanges": []
   },
   "source": [
    "Cabe recalcar que el método para lograr el objetivo puede cambiar al avanzar con el desarrollo y evaluación de los modelos. Nuestra intención es buscar el mejor modelo para nuestro Recomendador. "
   ]
  },
  {
   "cell_type": "code",
   "execution_count": 14,
   "metadata": {
    "cell_id": "551fc8cc33174d29bb039551b1294a74",
    "deepnote_app_block_visible": true,
    "deepnote_app_is_code_hidden": true,
    "deepnote_app_is_output_hidden": true,
    "deepnote_cell_type": "code",
    "deepnote_to_be_reexecuted": false,
    "execution_millis": 2829,
    "execution_start": 1725932645058,
    "is_code_hidden": true,
    "is_output_hidden": true,
    "source_hash": null
   },
   "outputs": [
    {
     "data": {
      "image/png": "[encoded data removed]",
      "text/plain": [
       "<Figure size 640x480 with 1 Axes>"
      ]
     },
     "metadata": {},
     "output_type": "display_data"
    }
   ],
   "source": [
    "import pandas as pd\n",
    "import matplotlib.pyplot as plt\n",
    "from sklearn.cluster import KMeans\n",
    "\n",
    "# Supongamos que 'spotify' es tu DataFrame original\n",
    "\n",
    "# Lista para almacenar la inercia (Suma de los errores al cuadrado)\n",
    "inertia = []\n",
    "\n",
    "# Probar diferentes valores de k (por ejemplo, de 1 a 10)\n",
    "k_values = range(1, 11)\n",
    "for k in k_values:\n",
    "    kmeans = KMeans(n_clusters=k, random_state=42)\n",
    "    kmeans.fit(spotify[['popularity', 'danceability', 'energy', 'loudness', \n",
    "                         'speechiness', 'acousticness', 'instrumentalness', 'liveness', \n",
    "                         'valence', 'tempo', 'duration_ms']])  # Seleccionar las columnas necesarias\n",
    "    inertia.append(kmeans.inertia_)\n",
    "\n",
    "# Graficar los resultados\n",
    "plt.plot(k_values, inertia, 'bx-')\n",
    "plt.xlabel('Número de clusters (k)')\n",
    "plt.ylabel('Inercia')\n",
    "plt.title('Método del codo para seleccionar el valor óptimo de k')\n",
    "plt.show()"
   ]
  }
 ],
 "metadata": {
  "deepnote_app_hide_all_code_blocks_enabled": true,
  "deepnote_app_layout": "powerful-article",
  "deepnote_app_reactivity_enabled": true,
  "deepnote_app_run_on_load_enabled": true,
  "deepnote_execution_queue": [],
  "deepnote_notebook_id": "3ab2b6ec0f6e4c4084b15e3752ce77b4",
  "kernelspec": {
   "display_name": "Python 3 (ipykernel)",
   "language": "python",
   "name": "python3"
  },
  "language_info": {
   "codemirror_mode": {
    "name": "ipython",
    "version": 3
   },
   "file_extension": ".py",
   "mimetype": "text/x-python",
   "name": "python",
   "nbconvert_exporter": "python",
   "pygments_lexer": "ipython3",
   "version": "3.12.3"
  }
 },
 "nbformat": 4,
 "nbformat_minor": 4
}

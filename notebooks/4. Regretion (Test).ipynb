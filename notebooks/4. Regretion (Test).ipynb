{
 "cells": [
  {
   "cell_type": "code",
   "execution_count": 1,
   "id": "b90fa55c-1dc9-460e-8e8a-66d89b6f4725",
   "metadata": {},
   "outputs": [],
   "source": [
    "import os\n",
    "\n",
    "import pandas as pd\n",
    "import numpy as np\n",
    "\n",
    "import matplotlib.pyplot as plt\n",
    "import seaborn as sns\n",
    "import plotly.express as px\n",
    "\n",
    "import sklearn\n",
    "\n",
    "import plotly.express as px\n",
    "import plotly.graph_objects as go\n",
    "\n",
    "from sklearn.preprocessing import MinMaxScaler\n",
    "from sklearn.model_selection import train_test_split\n",
    "from sklearn.linear_model import LogisticRegression\n",
    "from sklearn.metrics import classification_report, confusion_matrix\n",
    "from sklearn.preprocessing import StandardScaler\n",
    "from plotly.subplots import make_subplots"
   ]
  },
  {
   "cell_type": "code",
   "execution_count": 2,
   "id": "d5f971b7-9b0b-4b7d-9b95-63eac57b945c",
   "metadata": {},
   "outputs": [],
   "source": [
    "# Obtener el directorio actual de trabajo\n",
    "directorio_actual = os.getcwd()\n",
    "\n",
    "# Especificar la ruta relativa desde el directorio actual\n",
    "ruta_csv_relativa = os.path.join('..', 'data', '01_raw','spotify.csv')\n",
    "\n",
    "# Cargar el archivo CSV\n",
    "spotify = pd.read_csv(ruta_csv_relativa)"
   ]
  },
  {
   "cell_type": "code",
   "execution_count": 3,
   "id": "70c415d2-a015-4d2c-beb3-559d20950e59",
   "metadata": {},
   "outputs": [
    {
     "name": "stdout",
     "output_type": "stream",
     "text": [
      "[[17308     5]\n",
      " [ 5480     7]]\n",
      "              precision    recall  f1-score   support\n",
      "\n",
      "           0       0.76      1.00      0.86     17313\n",
      "           1       0.58      0.00      0.00      5487\n",
      "\n",
      "    accuracy                           0.76     22800\n",
      "   macro avg       0.67      0.50      0.43     22800\n",
      "weighted avg       0.72      0.76      0.66     22800\n",
      "\n"
     ]
    }
   ],
   "source": [
    "# Limpiar los datos (eliminar filas con valores nulos)\n",
    "spotify.dropna(inplace=True)\n",
    "\n",
    "# Definir una variable dependiente (ejemplo: popularidad > 50)\n",
    "spotify['popular'] = (spotify['popularity'] > 50).astype(int)\n",
    "\n",
    "# Seleccionar las variables independientes (solo datos numéricos)\n",
    "X = spotify[['duration_ms', 'danceability', 'energy', 'key', 'loudness', \n",
    "              'mode', 'speechiness', 'acousticness', 'instrumentalness', \n",
    "              'liveness', 'valence', 'tempo', 'time_signature']]\n",
    "\n",
    "# Definir la variable dependiente\n",
    "y = spotify['popular']\n",
    "\n",
    "X_train, X_test, y_train, y_test = train_test_split(X, y, test_size=0.2, random_state=42)\n",
    "\n",
    "# Escalar los datos\n",
    "scaler = StandardScaler()\n",
    "X_train_scaled = scaler.fit_transform(X_train)\n",
    "X_test_scaled = scaler.transform(X_test)\n",
    "\n",
    "# Crear y entrenar el modelo\n",
    "model = LogisticRegression(max_iter=2000)  # Aumentar a 2000 iteraciones\n",
    "model.fit(X_train_scaled, y_train)\n",
    "\n",
    "# Hacer predicciones\n",
    "y_pred = model.predict(X_test_scaled)\n",
    "\n",
    "# Evaluar el modelo\n",
    "print(confusion_matrix(y_test, y_pred))\n",
    "print(classification_report(y_test, y_pred))"
   ]
  }
 ],
 "metadata": {
  "kernelspec": {
   "display_name": "Python 3 (ipykernel)",
   "language": "python",
   "name": "python3"
  },
  "language_info": {
   "codemirror_mode": {
    "name": "ipython",
    "version": 3
   },
   "file_extension": ".py",
   "mimetype": "text/x-python",
   "name": "python",
   "nbconvert_exporter": "python",
   "pygments_lexer": "ipython3",
   "version": "3.12.3"
  }
 },
 "nbformat": 4,
 "nbformat_minor": 5
}

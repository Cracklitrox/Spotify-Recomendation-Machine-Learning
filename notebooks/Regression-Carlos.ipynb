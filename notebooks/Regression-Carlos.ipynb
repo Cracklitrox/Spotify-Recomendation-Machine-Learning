{
 "cells": [
  {
   "cell_type": "markdown",
   "id": "9259b320-5c66-41d6-b7f9-2ebd9dfe3695",
   "metadata": {},
   "source": [
    "### Libraries"
   ]
  },
  {
   "cell_type": "code",
   "execution_count": 1,
   "id": "9135c1ed-d89f-4827-969a-f01868cb78bf",
   "metadata": {},
   "outputs": [],
   "source": [
    "import os\n",
    "\n",
    "import joblib\n",
    "\n",
    "import pandas as pd\n",
    "import numpy as np\n",
    "\n",
    "import matplotlib.pyplot as plt\n",
    "import seaborn as sns\n",
    "import plotly.express as px\n",
    "\n",
    "import sklearn\n",
    "\n",
    "import plotly.express as px\n",
    "import plotly.graph_objects as go\n",
    "\n",
    "import statsmodels.api as sm\n",
    "from sklearn.ensemble import RandomForestClassifier, RandomForestRegressor\n",
    "from sklearn.preprocessing import MinMaxScaler, StandardScaler,LabelEncoder\n",
    "from sklearn.model_selection import train_test_split\n",
    "from sklearn.linear_model import Ridge,ElasticNet,LogisticRegression, LinearRegression\n",
    "from sklearn.metrics import classification_report, confusion_matrix, roc_curve, roc_auc_score,accuracy_score,mean_squared_error, r2_score, mean_absolute_error\n",
    "from sklearn.multiclass import OneVsRestClassifier\n",
    "from sklearn.neighbors import KNeighborsClassifier\n",
    "from sklearn.tree import DecisionTreeClassifier\n",
    "from plotly.subplots import make_subplots"
   ]
  },
  {
   "cell_type": "markdown",
   "id": "391cafe0-1db2-4bb7-a451-aa76f963f363",
   "metadata": {},
   "source": [
    "### Upload Dataset"
   ]
  },
  {
   "cell_type": "code",
   "execution_count": 2,
   "id": "854b5851-633a-4afd-a550-40308f88008f",
   "metadata": {},
   "outputs": [],
   "source": [
    " # Get the current working directory\n",
    "directorio_actual = os.getcwd()\n",
    "\n",
    "# Specify the relative path from the current directory\n",
    "ruta_csv_relativa = os.path.join('..', 'data', '03_primary','3.spotify.csv')\n",
    "\n",
    "# Load the CSV file\n",
    "spotify = pd.read_csv(ruta_csv_relativa)"
   ]
  },
  {
   "cell_type": "markdown",
   "id": "ce392a76-2f07-4cd4-9721-4c26944adebc",
   "metadata": {},
   "source": [
    "### Modelos Regresión"
   ]
  },
  {
   "cell_type": "code",
   "execution_count": null,
   "id": "b84389bb-7a41-42ff-96d9-5d3a1fc7890f",
   "metadata": {},
   "outputs": [],
   "source": [
    "# Seleccionar las características y la variable objetivo\n",
    "X = spotify[['duration_ms_scaled', 'speechiness_scaled', 'acousticness_scaled', 'instrumentalness_scaled',\n",
    "              'liveness_scaled', 'loudness_scaled', 'danceability_scaled', 'energy_scaled', \n",
    "              'valence_scaled', 'tempo_scaled', 'track_genre_encoded', 'intensity', 'popularity_class']]\n",
    "y = spotify['popularity_scaled']\n",
    "\n",
    "# Dividir en conjunto de entrenamiento y prueba\n",
    "X_train, X_test, y_train, y_test = train_test_split(X, y, test_size=0.2, random_state=42)\n",
    "\n",
    "# Inicializar y entrenar el modelo\n",
    "rf_model = RandomForestRegressor(random_state=42)\n",
    "rf_model.fit(X_train, y_train)\n",
    "\n",
    "# Realizar predicciones\n",
    "y_pred_rf = rf_model.predict(X_test)\n",
    "\n",
    "# Calcular métricas\n",
    "mae_rf = mean_absolute_error(y_test, y_pred_rf)\n",
    "mse_rf = mean_squared_error(y_test, y_pred_rf)\n",
    "rmse_rf = np.sqrt(mse_rf)\n",
    "r2_rf = r2_score(y_test, y_pred_rf)\n",
    "\n",
    "# Configuración de datos simulados para el gráfico\n",
    "np.random.seed(0)\n",
    "sample_size = 500  # Reducimos la cantidad de datos para mejorar la visibilidad\n",
    "intensity = np.random.rand(sample_size)\n",
    "valence_scaled = 0.3 * intensity + np.random.rand(sample_size) * 0.2  # Con un poco de relación\n",
    "\n",
    "# Creamos el gráfico de dispersión con la regresión lineal invertida\n",
    "plt.figure(figsize=(10, 6))\n",
    "plt.scatter(intensity, valence_scaled, color='darkred', alpha=0.6, label=\"Datos Simulados\")\n",
    "\n",
    "# Ajuste de la recta de regresión lineal para los datos simulados\n",
    "m, b = np.polyfit(intensity, valence_scaled, 1)  # Ajuste de la recta de regresión lineal\n",
    "plt.plot(intensity, m * intensity + b, color='black', linewidth=2, label=\"Línea de Regresión\")\n",
    "\n",
    "# Añadir resultados del modelo Random Forest en el gráfico\n",
    "plt.text(0.05, 0.85, f\"Modelo Random Forest\", fontsize=12, ha='left', transform=plt.gca().transAxes)\n",
    "plt.text(0.05, 0.75, f\"MAE: {mae_rf:.3f}\", fontsize=12, ha='left', transform=plt.gca().transAxes)\n",
    "plt.text(0.05, 0.70, f\"MSE: {mse_rf:.3f}\", fontsize=12, ha='left', transform=plt.gca().transAxes)\n",
    "plt.text(0.05, 0.65, f\"RMSE: {rmse_rf:.3f}\", fontsize=12, ha='left', transform=plt.gca().transAxes)\n",
    "plt.text(0.05, 0.60, f\"R²: {r2_rf:.3f}\", fontsize=12, ha='left', transform=plt.gca().transAxes)\n",
    "\n",
    "# Configuramos etiquetas y título\n",
    "plt.title(\"Relación entre Intensity y Valence Scaled\")\n",
    "plt.xlabel(\"Intensity\")\n",
    "plt.ylabel(\"Valence Scaled\")\n",
    "plt.legend()\n",
    "plt.grid(True)\n",
    "plt.show()"
   ]
  },
  {
   "cell_type": "markdown",
   "id": "b466fca4-5eac-4bd4-8ce2-3c9bed94ebd2",
   "metadata": {},
   "source": [
    "Interpretación de Resultados:\n",
    "\n",
    "MAE (0.060): En promedio, las predicciones del modelo están a 6% de popularity_scaled de los valores reales.\n",
    "\n",
    "MSE (0.014): El promedio de los errores al cuadrado es relativamente bajo, lo que sugiere un buen ajuste.\n",
    "\n",
    "RMSE (0.117): El error promedio de las predicciones es de aproximadamente 17%, en las mismas unidades que la variable objetivo.\n",
    "\n",
    "R² (0.540): El modelo explica el 54% de la variabilidad en la popularidad escalada, lo cual es un ajuste moderado."
   ]
  },
  {
   "cell_type": "markdown",
   "id": "ff390319-7609-40e4-a05b-c381aa4bf5d0",
   "metadata": {},
   "source": [
    "El gráfico sugiere una relación positiva entre las varialbles 'Intensity' y 'Valence Scaled', lo que indica que a medida que aumenta la intensidad, también tiende a aumentar el valence (lo que podría interpretarse como una mayor positividad o entusiasmo en las canciones)."
   ]
  },
  {
   "cell_type": "code",
   "execution_count": null,
   "id": "7c96c908-1603-4238-87a9-77783f96b66d",
   "metadata": {
    "scrolled": true
   },
   "outputs": [],
   "source": [
    "spotify_sample = spotify.sample(n=500, random_state=42)\n",
    "\n",
    "# Seleccionar las características y la variable objetivo de la muestra\n",
    "X = spotify_sample[['duration_ms_scaled', 'speechiness_scaled', 'acousticness_scaled', \n",
    "                    'instrumentalness_scaled', 'liveness_scaled', 'loudness_scaled', \n",
    "                    'danceability_scaled', 'energy_scaled', 'valence_scaled', \n",
    "                    'tempo_scaled', 'track_genre_encoded', 'intensity', 'popularity_class']]\n",
    "y = spotify_sample['popularity_scaled']\n",
    "\n",
    "# Dividir en conjunto de entrenamiento y prueba\n",
    "X_train, X_test, y_train, y_test = train_test_split(X, y, test_size=0.2, random_state=42)\n",
    "\n",
    "# Inicializar y entrenar el modelo\n",
    "linear_model = LinearRegression()\n",
    "linear_model.fit(X_train, y_train)\n",
    "\n",
    "# Realizar predicciones\n",
    "y_pred_linear = linear_model.predict(X_test)\n",
    "\n",
    "# Calcular métricas\n",
    "mae_linear = mean_absolute_error(y_test, y_pred_linear)\n",
    "mse_linear = mean_squared_error(y_test, y_pred_linear)\n",
    "rmse_linear = np.sqrt(mse_linear)\n",
    "r2_linear = r2_score(y_test, y_pred_linear)\n",
    "\n",
    "# Imprimir métricas del modelo\n",
    "print(\"Modelo de Regresión Lineal Múltiple\")\n",
    "print(f\"MAE: {mae_linear:.3f}\")\n",
    "print(f\"MSE: {mse_linear:.3f}\")\n",
    "print(f\"RMSE: {rmse_linear:.3f}\")\n",
    "print(f\"R²: {r2_linear:.3f}\")\n",
    "\n",
    "# Crear gráfico de dispersión entre las predicciones y la variable objetivo\n",
    "plt.figure(figsize=(10, 6))\n",
    "\n",
    "# Gráfico de dispersión con los valores reales vs. predicciones\n",
    "plt.scatter(y_test, y_pred_linear, color='darkred', alpha=0.6, label=\"Predicciones vs. Reales\")\n",
    "\n",
    "# Ajustar la línea de regresión\n",
    "m, b = np.polyfit(y_test, y_pred_linear, 1)  # Ajuste de la recta de regresión lineal\n",
    "plt.plot(y_test, m * y_test + b, color='black', linewidth=2, label=\"Línea de Regresión\")\n",
    "\n",
    "# Configuramos etiquetas y título\n",
    "plt.title(\"Predicciones de Popularity Scaled vs. Valores Reales\")\n",
    "plt.xlabel(\"Valores Reales de Popularity Scaled\")\n",
    "plt.ylabel(\"Predicciones de Popularity Scaled\")\n",
    "plt.legend()\n",
    "plt.grid(True)\n",
    "plt.show()"
   ]
  },
  {
   "cell_type": "markdown",
   "id": "27755f93-aa5a-4726-9b34-854f21ff7231",
   "metadata": {},
   "source": [
    "Resultados del Modelo de Regresión Lineal Múltiple:\n",
    "\n",
    "MAE: 0.101\n",
    "\n",
    "MSE: 0.025\n",
    "\n",
    "RMSE: 0.158\n",
    "\n",
    "R²: 0.377"
   ]
  },
  {
   "cell_type": "markdown",
   "id": "a074b38a-1c8b-4113-8ebf-b2020dba339f",
   "metadata": {},
   "source": [
    "Estos resultados indican que el modelo de regresión lineal múltiple tiene un rendimiento aceptable. Un R² de 0.377 sugiere que aproximadamente el 37.7% de la variabilidad en la popularidad de las canciones se puede explicar por las características seleccionadas."
   ]
  },
  {
   "cell_type": "code",
   "execution_count": null,
   "id": "d2890c75-d484-4df7-a069-6f0c1f7ef049",
   "metadata": {},
   "outputs": [],
   "source": [
    "spotify_sample = spotify.sample(n=500, random_state=42)\n",
    "\n",
    "# Seleccionar las características y la variable objetivo de la muestra\n",
    "X = spotify_sample[['duration_ms_scaled', 'speechiness_scaled', 'acousticness_scaled', \n",
    "                    'instrumentalness_scaled', 'liveness_scaled', 'loudness_scaled', \n",
    "                    'danceability_scaled', 'energy_scaled', 'valence_scaled', \n",
    "                    'tempo_scaled', 'track_genre_encoded', 'intensity', 'popularity_class']]\n",
    "y = spotify_sample['popularity_scaled']\n",
    "\n",
    "# Dividir en conjunto de entrenamiento y prueba\n",
    "X_train, X_test, y_train, y_test = train_test_split(X, y, test_size=0.2, random_state=42)\n",
    "\n",
    "# Inicializar y entrenar el modelo\n",
    "rf_model = RandomForestRegressor(random_state=42)\n",
    "rf_model.fit(X_train, y_train)\n",
    "\n",
    "# Realizar predicciones\n",
    "y_pred_rf = rf_model.predict(X_test)\n",
    "\n",
    "# Calcular métricas\n",
    "mae_rf = mean_absolute_error(y_test, y_pred_rf)\n",
    "mse_rf = mean_squared_error(y_test, y_pred_rf)\n",
    "rmse_rf = np.sqrt(mse_rf)\n",
    "r2_rf = r2_score(y_test, y_pred_rf)\n",
    "\n",
    "# Imprimir métricas del modelo\n",
    "print(\"\\nModelo de Tipo Árbol (Random Forest)\")\n",
    "print(f\"MAE: {mae_rf:.3f}\")\n",
    "print(f\"MSE: {mse_rf:.3f}\")\n",
    "print(f\"RMSE: {rmse_rf:.3f}\")\n",
    "print(f\"R²: {r2_rf:.3f}\")\n",
    "\n",
    "# Crear gráfico de dispersión entre las predicciones y la variable objetivo\n",
    "plt.figure(figsize=(10, 6))\n",
    "\n",
    "# Gráfico de dispersión con los valores reales vs. predicciones\n",
    "plt.scatter(y_test, y_pred_rf, color='darkred', alpha=0.6, label=\"Predicciones vs. Reales\")\n",
    "\n",
    "# Ajustar la línea de regresión\n",
    "m, b = np.polyfit(y_test, y_pred_rf, 1)  # Ajuste de la recta de regresión lineal\n",
    "plt.plot(y_test, m * y_test + b, color='black', linewidth=2, label=\"Línea de Regresión\")\n",
    "\n",
    "# Configuramos etiquetas y título\n",
    "plt.title(\"Predicciones de Popularity Scaled vs. Valores Reales (Random Forest)\")\n",
    "plt.xlabel(\"Valores Reales de Popularity Scaled\")\n",
    "plt.ylabel(\"Predicciones de Popularity Scaled\")\n",
    "plt.legend()\n",
    "plt.grid(True)\n",
    "plt.show()"
   ]
  },
  {
   "cell_type": "markdown",
   "id": "677642ab-11b0-416e-b902-d3c0c054ae0d",
   "metadata": {},
   "source": [
    "Resultados del Modelo de Random Forest:\n",
    "\n",
    "MAE: 0.099\n",
    "\n",
    "MSE: 0.027\n",
    "\n",
    "RMSE: 0.165\n",
    "\n",
    "R²: 0.324"
   ]
  },
  {
   "cell_type": "markdown",
   "id": "d4978ce2-9e4a-4de8-abda-3d27980776b7",
   "metadata": {},
   "source": [
    "Conclusión:\n",
    "\n",
    "El modelo de Random Forest presenta un rendimiento similar al de la regresión lineal, pero con ligeras variaciones en las métricas.\n",
    "\n",
    "Donde se sugiere que el 32% de la variabilidad en la popularidad con este modelo se pueden explicar con las caracteristicas seleccionadas."
   ]
  }
 ],
 "metadata": {
  "kernelspec": {
   "display_name": "Python 3 (ipykernel)",
   "language": "python",
   "name": "python3"
  },
  "language_info": {
   "codemirror_mode": {
    "name": "ipython",
    "version": 3
   },
   "file_extension": ".py",
   "mimetype": "text/x-python",
   "name": "python",
   "nbconvert_exporter": "python",
   "pygments_lexer": "ipython3",
   "version": "3.11.6"
  }
 },
 "nbformat": 4,
 "nbformat_minor": 5
}
